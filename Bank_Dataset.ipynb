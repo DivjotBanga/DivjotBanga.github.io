{
  "nbformat": 4,
  "nbformat_minor": 0,
  "metadata": {
    "colab": {
      "name": "Bank_Dataset",
      "version": "0.3.2",
      "provenance": [],
      "collapsed_sections": [],
      "include_colab_link": true
    },
    "kernelspec": {
      "name": "python3",
      "display_name": "Python 3"
    }
  },
  "cells": [
    {
      "cell_type": "markdown",
      "metadata": {
        "id": "view-in-github",
        "colab_type": "text"
      },
      "source": [
        "<a href=\"https://colab.research.google.com/github/DivjotBanga/DivjotBanga.github.io/blob/master/Bank_Dataset.ipynb\" target=\"_parent\"><img src=\"https://colab.research.google.com/assets/colab-badge.svg\" alt=\"Open In Colab\"/></a>"
      ]
    },
    {
      "cell_type": "markdown",
      "metadata": {
        "id": "sTaGIyhdYyeZ",
        "colab_type": "text"
      },
      "source": [
        "# All the install and imports"
      ]
    },
    {
      "cell_type": "code",
      "metadata": {
        "id": "z6xuQKWIAL-o",
        "colab_type": "code",
        "outputId": "3d7e5853-e147-4cc6-abb4-621cb07c3562",
        "colab": {
          "base_uri": "https://localhost:8080/",
          "height": 1000
        }
      },
      "source": [
        "!pip install -U pip\n",
        "!pip install researchpy\n",
        "!pip install pandas -U\n",
        "!pip install gcsfs\n",
        "!pip install -U scikit-learn\n",
        "!pip install imbalanced-learn"
      ],
      "execution_count": 0,
      "outputs": [
        {
          "output_type": "stream",
          "text": [
            "Requirement already up-to-date: pip in /usr/local/lib/python3.6/dist-packages (19.1.1)\n",
            "Collecting researchpy\n",
            "  Downloading https://files.pythonhosted.org/packages/9c/4f/9401306cc653c9a516efbdb6d63960803b3a246c81f68c3baf1d2d5ed0c1/researchpy-0.1.7-py3-none-any.whl\n",
            "Requirement already satisfied: numpy in /usr/local/lib/python3.6/dist-packages (from researchpy) (1.16.4)\n",
            "Requirement already satisfied: pandas in /usr/local/lib/python3.6/dist-packages (from researchpy) (0.24.2)\n",
            "Requirement already satisfied: statsmodels in /usr/local/lib/python3.6/dist-packages (from researchpy) (0.10.0)\n",
            "Requirement already satisfied: scipy in /usr/local/lib/python3.6/dist-packages (from researchpy) (1.3.0)\n",
            "Requirement already satisfied: pytz>=2011k in /usr/local/lib/python3.6/dist-packages (from pandas->researchpy) (2018.9)\n",
            "Requirement already satisfied: python-dateutil>=2.5.0 in /usr/local/lib/python3.6/dist-packages (from pandas->researchpy) (2.5.3)\n",
            "Requirement already satisfied: patsy>=0.4.0 in /usr/local/lib/python3.6/dist-packages (from statsmodels->researchpy) (0.5.1)\n",
            "Requirement already satisfied: six>=1.5 in /usr/local/lib/python3.6/dist-packages (from python-dateutil>=2.5.0->pandas->researchpy) (1.12.0)\n",
            "Installing collected packages: researchpy\n",
            "Successfully installed researchpy-0.1.7\n",
            "Requirement already up-to-date: pandas in /usr/local/lib/python3.6/dist-packages (0.24.2)\n",
            "Requirement already satisfied, skipping upgrade: numpy>=1.12.0 in /usr/local/lib/python3.6/dist-packages (from pandas) (1.16.4)\n",
            "Requirement already satisfied, skipping upgrade: pytz>=2011k in /usr/local/lib/python3.6/dist-packages (from pandas) (2018.9)\n",
            "Requirement already satisfied, skipping upgrade: python-dateutil>=2.5.0 in /usr/local/lib/python3.6/dist-packages (from pandas) (2.5.3)\n",
            "Requirement already satisfied, skipping upgrade: six>=1.5 in /usr/local/lib/python3.6/dist-packages (from python-dateutil>=2.5.0->pandas) (1.12.0)\n",
            "Collecting gcsfs\n",
            "\u001b[?25l  Downloading https://files.pythonhosted.org/packages/f8/35/65faba9cdf8f6df166ec4005cf1722fb699c034380f6acb897f354b464a7/gcsfs-0.2.3.tar.gz (51kB)\n",
            "\u001b[K     |████████████████████████████████| 61kB 4.0MB/s \n",
            "\u001b[?25hRequirement already satisfied: google-auth>=1.2 in /usr/local/lib/python3.6/dist-packages (from gcsfs) (1.4.2)\n",
            "Requirement already satisfied: google-auth-oauthlib in /usr/local/lib/python3.6/dist-packages (from gcsfs) (0.4.0)\n",
            "Requirement already satisfied: requests in /usr/local/lib/python3.6/dist-packages (from gcsfs) (2.21.0)\n",
            "Requirement already satisfied: decorator in /usr/local/lib/python3.6/dist-packages (from gcsfs) (4.4.0)\n",
            "Requirement already satisfied: six>=1.9.0 in /usr/local/lib/python3.6/dist-packages (from google-auth>=1.2->gcsfs) (1.12.0)\n",
            "Requirement already satisfied: cachetools>=2.0.0 in /usr/local/lib/python3.6/dist-packages (from google-auth>=1.2->gcsfs) (3.1.1)\n",
            "Requirement already satisfied: pyasn1-modules>=0.2.1 in /usr/local/lib/python3.6/dist-packages (from google-auth>=1.2->gcsfs) (0.2.5)\n",
            "Requirement already satisfied: rsa>=3.1.4 in /usr/local/lib/python3.6/dist-packages (from google-auth>=1.2->gcsfs) (4.0)\n",
            "Requirement already satisfied: requests-oauthlib>=0.7.0 in /usr/local/lib/python3.6/dist-packages (from google-auth-oauthlib->gcsfs) (1.2.0)\n",
            "Requirement already satisfied: urllib3<1.25,>=1.21.1 in /usr/local/lib/python3.6/dist-packages (from requests->gcsfs) (1.24.3)\n",
            "Requirement already satisfied: chardet<3.1.0,>=3.0.2 in /usr/local/lib/python3.6/dist-packages (from requests->gcsfs) (3.0.4)\n",
            "Requirement already satisfied: certifi>=2017.4.17 in /usr/local/lib/python3.6/dist-packages (from requests->gcsfs) (2019.6.16)\n",
            "Requirement already satisfied: idna<2.9,>=2.5 in /usr/local/lib/python3.6/dist-packages (from requests->gcsfs) (2.8)\n",
            "Requirement already satisfied: pyasn1<0.5.0,>=0.4.1 in /usr/local/lib/python3.6/dist-packages (from pyasn1-modules>=0.2.1->google-auth>=1.2->gcsfs) (0.4.5)\n",
            "Requirement already satisfied: oauthlib>=3.0.0 in /usr/local/lib/python3.6/dist-packages (from requests-oauthlib>=0.7.0->google-auth-oauthlib->gcsfs) (3.0.2)\n",
            "Building wheels for collected packages: gcsfs\n",
            "  Building wheel for gcsfs (setup.py) ... \u001b[?25l\u001b[?25hdone\n",
            "  Stored in directory: /root/.cache/pip/wheels/cf/68/29/276205e6d8fb4de46f5cbe6098c26cea34eae21334f636b24a\n",
            "Successfully built gcsfs\n",
            "Installing collected packages: gcsfs\n",
            "Successfully installed gcsfs-0.2.3\n",
            "Requirement already up-to-date: scikit-learn in /usr/local/lib/python3.6/dist-packages (0.21.2)\n",
            "Requirement already satisfied, skipping upgrade: joblib>=0.11 in /usr/local/lib/python3.6/dist-packages (from scikit-learn) (0.13.2)\n",
            "Requirement already satisfied, skipping upgrade: numpy>=1.11.0 in /usr/local/lib/python3.6/dist-packages (from scikit-learn) (1.16.4)\n",
            "Requirement already satisfied, skipping upgrade: scipy>=0.17.0 in /usr/local/lib/python3.6/dist-packages (from scikit-learn) (1.3.0)\n",
            "Requirement already satisfied: imbalanced-learn in /usr/local/lib/python3.6/dist-packages (0.4.3)\n",
            "Requirement already satisfied: numpy>=1.8.2 in /usr/local/lib/python3.6/dist-packages (from imbalanced-learn) (1.16.4)\n",
            "Requirement already satisfied: scikit-learn>=0.20 in /usr/local/lib/python3.6/dist-packages (from imbalanced-learn) (0.21.2)\n",
            "Requirement already satisfied: scipy>=0.13.3 in /usr/local/lib/python3.6/dist-packages (from imbalanced-learn) (1.3.0)\n",
            "Requirement already satisfied: joblib>=0.11 in /usr/local/lib/python3.6/dist-packages (from scikit-learn>=0.20->imbalanced-learn) (0.13.2)\n"
          ],
          "name": "stdout"
        }
      ]
    },
    {
      "cell_type": "code",
      "metadata": {
        "id": "fcVXuQSECmSr",
        "colab_type": "code",
        "colab": {}
      },
      "source": [
        "from google.colab import drive\n",
        "import pandas as pd\n",
        "import numpy as np \n",
        "from  scipy.stats import ttest_ind, levene ,shapiro,iqr\n",
        "import  scipy.stats as stats\n",
        "import matplotlib.pyplot as plt\n",
        "import scipy.io as sio\n",
        "import math\n",
        "from statsmodels.graphics.gofplots import qqplot\n",
        "from scipy.stats import pearsonr\n",
        "from sklearn.linear_model import LinearRegression\n",
        "from statsmodels.stats.power import TTestIndPower\n",
        "from statsmodels.formula.api import ols\n",
        "from sklearn.model_selection import train_test_split\n",
        "#import statsmodels.api as sm\n",
        "import scipy.stats as stats\n",
        "from imblearn.over_sampling import SMOTE,ADASYN\n",
        "from sklearn.feature_selection import RFE\n",
        "from sklearn.linear_model import LogisticRegression\n",
        "from sklearn import metrics\n",
        "import statsmodels.api as sm\n",
        "from sklearn.metrics import confusion_matrix\n",
        "from sklearn.neighbors import KNeighborsClassifier\n",
        "from sklearn.model_selection import GridSearchCV\n",
        "from sklearn.naive_bayes import GaussianNB\n",
        "from sklearn import metrics"
      ],
      "execution_count": 0,
      "outputs": []
    },
    {
      "cell_type": "markdown",
      "metadata": {
        "id": "uux_N9i2ZBj2",
        "colab_type": "text"
      },
      "source": [
        "# Read the data"
      ]
    },
    {
      "cell_type": "code",
      "metadata": {
        "id": "9O0KLzkAAj71",
        "colab_type": "code",
        "outputId": "359f174c-d3a1-4d13-afcf-8663d8f727ad",
        "colab": {
          "base_uri": "https://localhost:8080/",
          "height": 189
        }
      },
      "source": [
        "drive.mount('./data')"
      ],
      "execution_count": 0,
      "outputs": [
        {
          "output_type": "stream",
          "text": [
            "Go to this URL in a browser: https://accounts.google.com/o/oauth2/auth?client_id=947318989803-6bn6qk8qdgf4n4g3pfee6491hc0brc4i.apps.googleusercontent.com&redirect_uri=urn%3Aietf%3Awg%3Aoauth%3A2.0%3Aoob&scope=email%20https%3A%2F%2Fwww.googleapis.com%2Fauth%2Fdocs.test%20https%3A%2F%2Fwww.googleapis.com%2Fauth%2Fdrive%20https%3A%2F%2Fwww.googleapis.com%2Fauth%2Fdrive.photos.readonly%20https%3A%2F%2Fwww.googleapis.com%2Fauth%2Fpeopleapi.readonly&response_type=code\n",
            "\n",
            "Enter your authorization code:\n",
            "··········\n",
            "Mounted at ./data\n"
          ],
          "name": "stdout"
        }
      ]
    },
    {
      "cell_type": "code",
      "metadata": {
        "id": "ZM22rP6CCfW8",
        "colab_type": "code",
        "colab": {}
      },
      "source": [
        "case_study_data = pd.read_csv('./data/My Drive/ML_training/Bank_Personal_Loan_Modelling.csv')"
      ],
      "execution_count": 0,
      "outputs": []
    },
    {
      "cell_type": "code",
      "metadata": {
        "id": "MBishwENDx-R",
        "colab_type": "code",
        "colab": {}
      },
      "source": [
        "ID = case_study_data['ID']"
      ],
      "execution_count": 0,
      "outputs": []
    },
    {
      "cell_type": "code",
      "metadata": {
        "id": "1WJ_2vlHTimC",
        "colab_type": "code",
        "colab": {}
      },
      "source": [
        "case_study_data = case_study_data.drop('ID',axis = 1)"
      ],
      "execution_count": 0,
      "outputs": []
    },
    {
      "cell_type": "markdown",
      "metadata": {
        "id": "-wNMUxOPZPXM",
        "colab_type": "text"
      },
      "source": [
        "# Data cleaning"
      ]
    },
    {
      "cell_type": "code",
      "metadata": {
        "id": "bivaLbitTl8U",
        "colab_type": "code",
        "outputId": "2681b068-b420-4d37-ec06-026ec9421d66",
        "colab": {
          "base_uri": "https://localhost:8080/",
          "height": 255
        }
      },
      "source": [
        "case_study_data[case_study_data['Personal Loan']!=0].count()"
      ],
      "execution_count": 0,
      "outputs": [
        {
          "output_type": "execute_result",
          "data": {
            "text/plain": [
              "Age                   480\n",
              "Experience            480\n",
              "Income                480\n",
              "ZIP Code              480\n",
              "Family                480\n",
              "CCAvg                 480\n",
              "Education             480\n",
              "Mortgage              480\n",
              "Personal Loan         480\n",
              "Securities Account    480\n",
              "CD Account            480\n",
              "Online                480\n",
              "CreditCard            480\n",
              "dtype: int64"
            ]
          },
          "metadata": {
            "tags": []
          },
          "execution_count": 11
        }
      ]
    },
    {
      "cell_type": "code",
      "metadata": {
        "id": "wYzYr3y0TqZ0",
        "colab_type": "code",
        "outputId": "7135ce80-1013-4597-f929-1d9965135e8c",
        "colab": {
          "base_uri": "https://localhost:8080/",
          "height": 142
        }
      },
      "source": [
        "case_study_data.groupby(['Personal Loan']).mean()"
      ],
      "execution_count": 0,
      "outputs": [
        {
          "output_type": "execute_result",
          "data": {
            "text/html": [
              "<div>\n",
              "<style scoped>\n",
              "    .dataframe tbody tr th:only-of-type {\n",
              "        vertical-align: middle;\n",
              "    }\n",
              "\n",
              "    .dataframe tbody tr th {\n",
              "        vertical-align: top;\n",
              "    }\n",
              "\n",
              "    .dataframe thead th {\n",
              "        text-align: right;\n",
              "    }\n",
              "</style>\n",
              "<table border=\"1\" class=\"dataframe\">\n",
              "  <thead>\n",
              "    <tr style=\"text-align: right;\">\n",
              "      <th></th>\n",
              "      <th>Age</th>\n",
              "      <th>Experience</th>\n",
              "      <th>Income</th>\n",
              "      <th>ZIP Code</th>\n",
              "      <th>Family</th>\n",
              "      <th>CCAvg</th>\n",
              "      <th>Education</th>\n",
              "      <th>Mortgage</th>\n",
              "      <th>Securities Account</th>\n",
              "      <th>CD Account</th>\n",
              "      <th>Online</th>\n",
              "      <th>CreditCard</th>\n",
              "    </tr>\n",
              "    <tr>\n",
              "      <th>Personal Loan</th>\n",
              "      <th></th>\n",
              "      <th></th>\n",
              "      <th></th>\n",
              "      <th></th>\n",
              "      <th></th>\n",
              "      <th></th>\n",
              "      <th></th>\n",
              "      <th></th>\n",
              "      <th></th>\n",
              "      <th></th>\n",
              "      <th></th>\n",
              "      <th></th>\n",
              "    </tr>\n",
              "  </thead>\n",
              "  <tbody>\n",
              "    <tr>\n",
              "      <th>0</th>\n",
              "      <td>45.367257</td>\n",
              "      <td>20.132301</td>\n",
              "      <td>66.237389</td>\n",
              "      <td>93152.428761</td>\n",
              "      <td>2.373451</td>\n",
              "      <td>1.729009</td>\n",
              "      <td>1.843584</td>\n",
              "      <td>51.789381</td>\n",
              "      <td>0.102212</td>\n",
              "      <td>0.035841</td>\n",
              "      <td>0.595796</td>\n",
              "      <td>0.293584</td>\n",
              "    </tr>\n",
              "    <tr>\n",
              "      <th>1</th>\n",
              "      <td>45.066667</td>\n",
              "      <td>19.843750</td>\n",
              "      <td>144.745833</td>\n",
              "      <td>93153.202083</td>\n",
              "      <td>2.612500</td>\n",
              "      <td>3.905354</td>\n",
              "      <td>2.233333</td>\n",
              "      <td>100.845833</td>\n",
              "      <td>0.125000</td>\n",
              "      <td>0.291667</td>\n",
              "      <td>0.606250</td>\n",
              "      <td>0.297917</td>\n",
              "    </tr>\n",
              "  </tbody>\n",
              "</table>\n",
              "</div>"
            ],
            "text/plain": [
              "                     Age  Experience  ...    Online  CreditCard\n",
              "Personal Loan                         ...                      \n",
              "0              45.367257   20.132301  ...  0.595796    0.293584\n",
              "1              45.066667   19.843750  ...  0.606250    0.297917\n",
              "\n",
              "[2 rows x 12 columns]"
            ]
          },
          "metadata": {
            "tags": []
          },
          "execution_count": 12
        }
      ]
    },
    {
      "cell_type": "code",
      "metadata": {
        "id": "qFYKOccrTvJi",
        "colab_type": "code",
        "outputId": "c35f0cb1-0521-482f-bf49-a118c30bff05",
        "colab": {
          "base_uri": "https://localhost:8080/",
          "height": 102
        }
      },
      "source": [
        "(case_study_data['CreditCard'] == case_study_data['Personal Loan']).describe()"
      ],
      "execution_count": 0,
      "outputs": [
        {
          "output_type": "execute_result",
          "data": {
            "text/plain": [
              "count     5000\n",
              "unique       2\n",
              "top       True\n",
              "freq      3336\n",
              "dtype: object"
            ]
          },
          "metadata": {
            "tags": []
          },
          "execution_count": 13
        }
      ]
    },
    {
      "cell_type": "code",
      "metadata": {
        "id": "2uqekFswTx89",
        "colab_type": "code",
        "outputId": "cab96299-2675-44be-d4ce-52458679f1e1",
        "colab": {
          "base_uri": "https://localhost:8080/",
          "height": 102
        }
      },
      "source": [
        "(case_study_data['Online'] == case_study_data['Personal Loan']).describe()"
      ],
      "execution_count": 0,
      "outputs": [
        {
          "output_type": "execute_result",
          "data": {
            "text/plain": [
              "count      5000\n",
              "unique        2\n",
              "top       False\n",
              "freq       2882\n",
              "dtype: object"
            ]
          },
          "metadata": {
            "tags": []
          },
          "execution_count": 14
        }
      ]
    },
    {
      "cell_type": "code",
      "metadata": {
        "id": "-Wx7Ae7lT2NA",
        "colab_type": "code",
        "outputId": "e6deb85f-cb9c-417f-de82-a3c31b37e990",
        "colab": {
          "base_uri": "https://localhost:8080/",
          "height": 173
        }
      },
      "source": [
        "case_study_data[['Family','Personal Loan']].groupby('Personal Loan').describe()"
      ],
      "execution_count": 0,
      "outputs": [
        {
          "output_type": "execute_result",
          "data": {
            "text/html": [
              "<div>\n",
              "<style scoped>\n",
              "    .dataframe tbody tr th:only-of-type {\n",
              "        vertical-align: middle;\n",
              "    }\n",
              "\n",
              "    .dataframe tbody tr th {\n",
              "        vertical-align: top;\n",
              "    }\n",
              "\n",
              "    .dataframe thead tr th {\n",
              "        text-align: left;\n",
              "    }\n",
              "\n",
              "    .dataframe thead tr:last-of-type th {\n",
              "        text-align: right;\n",
              "    }\n",
              "</style>\n",
              "<table border=\"1\" class=\"dataframe\">\n",
              "  <thead>\n",
              "    <tr>\n",
              "      <th></th>\n",
              "      <th colspan=\"8\" halign=\"left\">Family</th>\n",
              "    </tr>\n",
              "    <tr>\n",
              "      <th></th>\n",
              "      <th>count</th>\n",
              "      <th>mean</th>\n",
              "      <th>std</th>\n",
              "      <th>min</th>\n",
              "      <th>25%</th>\n",
              "      <th>50%</th>\n",
              "      <th>75%</th>\n",
              "      <th>max</th>\n",
              "    </tr>\n",
              "    <tr>\n",
              "      <th>Personal Loan</th>\n",
              "      <th></th>\n",
              "      <th></th>\n",
              "      <th></th>\n",
              "      <th></th>\n",
              "      <th></th>\n",
              "      <th></th>\n",
              "      <th></th>\n",
              "      <th></th>\n",
              "    </tr>\n",
              "  </thead>\n",
              "  <tbody>\n",
              "    <tr>\n",
              "      <th>0</th>\n",
              "      <td>4520.0</td>\n",
              "      <td>2.373451</td>\n",
              "      <td>1.148771</td>\n",
              "      <td>1.0</td>\n",
              "      <td>1.0</td>\n",
              "      <td>2.0</td>\n",
              "      <td>3.0</td>\n",
              "      <td>4.0</td>\n",
              "    </tr>\n",
              "    <tr>\n",
              "      <th>1</th>\n",
              "      <td>480.0</td>\n",
              "      <td>2.612500</td>\n",
              "      <td>1.115393</td>\n",
              "      <td>1.0</td>\n",
              "      <td>2.0</td>\n",
              "      <td>3.0</td>\n",
              "      <td>4.0</td>\n",
              "      <td>4.0</td>\n",
              "    </tr>\n",
              "  </tbody>\n",
              "</table>\n",
              "</div>"
            ],
            "text/plain": [
              "               Family                                             \n",
              "                count      mean       std  min  25%  50%  75%  max\n",
              "Personal Loan                                                     \n",
              "0              4520.0  2.373451  1.148771  1.0  1.0  2.0  3.0  4.0\n",
              "1               480.0  2.612500  1.115393  1.0  2.0  3.0  4.0  4.0"
            ]
          },
          "metadata": {
            "tags": []
          },
          "execution_count": 15
        }
      ]
    },
    {
      "cell_type": "code",
      "metadata": {
        "id": "g8wHBNLcT6Mo",
        "colab_type": "code",
        "outputId": "8d4238c5-681b-444d-b106-c5c8c71eaaf5",
        "colab": {
          "base_uri": "https://localhost:8080/",
          "height": 173
        }
      },
      "source": [
        "case_study_data[['Education','Personal Loan']].groupby('Personal Loan').describe()"
      ],
      "execution_count": 0,
      "outputs": [
        {
          "output_type": "execute_result",
          "data": {
            "text/html": [
              "<div>\n",
              "<style scoped>\n",
              "    .dataframe tbody tr th:only-of-type {\n",
              "        vertical-align: middle;\n",
              "    }\n",
              "\n",
              "    .dataframe tbody tr th {\n",
              "        vertical-align: top;\n",
              "    }\n",
              "\n",
              "    .dataframe thead tr th {\n",
              "        text-align: left;\n",
              "    }\n",
              "\n",
              "    .dataframe thead tr:last-of-type th {\n",
              "        text-align: right;\n",
              "    }\n",
              "</style>\n",
              "<table border=\"1\" class=\"dataframe\">\n",
              "  <thead>\n",
              "    <tr>\n",
              "      <th></th>\n",
              "      <th colspan=\"8\" halign=\"left\">Education</th>\n",
              "    </tr>\n",
              "    <tr>\n",
              "      <th></th>\n",
              "      <th>count</th>\n",
              "      <th>mean</th>\n",
              "      <th>std</th>\n",
              "      <th>min</th>\n",
              "      <th>25%</th>\n",
              "      <th>50%</th>\n",
              "      <th>75%</th>\n",
              "      <th>max</th>\n",
              "    </tr>\n",
              "    <tr>\n",
              "      <th>Personal Loan</th>\n",
              "      <th></th>\n",
              "      <th></th>\n",
              "      <th></th>\n",
              "      <th></th>\n",
              "      <th></th>\n",
              "      <th></th>\n",
              "      <th></th>\n",
              "      <th></th>\n",
              "    </tr>\n",
              "  </thead>\n",
              "  <tbody>\n",
              "    <tr>\n",
              "      <th>0</th>\n",
              "      <td>4520.0</td>\n",
              "      <td>1.843584</td>\n",
              "      <td>0.839975</td>\n",
              "      <td>1.0</td>\n",
              "      <td>1.0</td>\n",
              "      <td>2.0</td>\n",
              "      <td>3.0</td>\n",
              "      <td>3.0</td>\n",
              "    </tr>\n",
              "    <tr>\n",
              "      <th>1</th>\n",
              "      <td>480.0</td>\n",
              "      <td>2.233333</td>\n",
              "      <td>0.753373</td>\n",
              "      <td>1.0</td>\n",
              "      <td>2.0</td>\n",
              "      <td>2.0</td>\n",
              "      <td>3.0</td>\n",
              "      <td>3.0</td>\n",
              "    </tr>\n",
              "  </tbody>\n",
              "</table>\n",
              "</div>"
            ],
            "text/plain": [
              "              Education                                             \n",
              "                  count      mean       std  min  25%  50%  75%  max\n",
              "Personal Loan                                                       \n",
              "0                4520.0  1.843584  0.839975  1.0  1.0  2.0  3.0  3.0\n",
              "1                 480.0  2.233333  0.753373  1.0  2.0  2.0  3.0  3.0"
            ]
          },
          "metadata": {
            "tags": []
          },
          "execution_count": 16
        }
      ]
    },
    {
      "cell_type": "code",
      "metadata": {
        "id": "GMNy-UNdT9rq",
        "colab_type": "code",
        "colab": {}
      },
      "source": [
        "summary = case_study_data.groupby(['Personal Loan']).describe()"
      ],
      "execution_count": 0,
      "outputs": []
    },
    {
      "cell_type": "code",
      "metadata": {
        "id": "-o0kDsr-UEDs",
        "colab_type": "code",
        "outputId": "1e6537d4-03d7-4789-be2e-6b3087628805",
        "colab": {
          "base_uri": "https://localhost:8080/",
          "height": 259
        }
      },
      "source": [
        "summary"
      ],
      "execution_count": 0,
      "outputs": [
        {
          "output_type": "execute_result",
          "data": {
            "text/html": [
              "<div>\n",
              "<style scoped>\n",
              "    .dataframe tbody tr th:only-of-type {\n",
              "        vertical-align: middle;\n",
              "    }\n",
              "\n",
              "    .dataframe tbody tr th {\n",
              "        vertical-align: top;\n",
              "    }\n",
              "\n",
              "    .dataframe thead tr th {\n",
              "        text-align: left;\n",
              "    }\n",
              "\n",
              "    .dataframe thead tr:last-of-type th {\n",
              "        text-align: right;\n",
              "    }\n",
              "</style>\n",
              "<table border=\"1\" class=\"dataframe\">\n",
              "  <thead>\n",
              "    <tr>\n",
              "      <th></th>\n",
              "      <th colspan=\"8\" halign=\"left\">Age</th>\n",
              "      <th colspan=\"8\" halign=\"left\">Experience</th>\n",
              "      <th colspan=\"8\" halign=\"left\">Income</th>\n",
              "      <th colspan=\"8\" halign=\"left\">ZIP Code</th>\n",
              "      <th colspan=\"8\" halign=\"left\">Family</th>\n",
              "      <th>...</th>\n",
              "      <th colspan=\"8\" halign=\"left\">Mortgage</th>\n",
              "      <th colspan=\"8\" halign=\"left\">Securities Account</th>\n",
              "      <th colspan=\"8\" halign=\"left\">CD Account</th>\n",
              "      <th colspan=\"8\" halign=\"left\">Online</th>\n",
              "      <th colspan=\"8\" halign=\"left\">CreditCard</th>\n",
              "    </tr>\n",
              "    <tr>\n",
              "      <th></th>\n",
              "      <th>count</th>\n",
              "      <th>mean</th>\n",
              "      <th>std</th>\n",
              "      <th>min</th>\n",
              "      <th>25%</th>\n",
              "      <th>50%</th>\n",
              "      <th>75%</th>\n",
              "      <th>max</th>\n",
              "      <th>count</th>\n",
              "      <th>mean</th>\n",
              "      <th>std</th>\n",
              "      <th>min</th>\n",
              "      <th>25%</th>\n",
              "      <th>50%</th>\n",
              "      <th>75%</th>\n",
              "      <th>max</th>\n",
              "      <th>count</th>\n",
              "      <th>mean</th>\n",
              "      <th>std</th>\n",
              "      <th>min</th>\n",
              "      <th>25%</th>\n",
              "      <th>50%</th>\n",
              "      <th>75%</th>\n",
              "      <th>max</th>\n",
              "      <th>count</th>\n",
              "      <th>mean</th>\n",
              "      <th>std</th>\n",
              "      <th>min</th>\n",
              "      <th>25%</th>\n",
              "      <th>50%</th>\n",
              "      <th>75%</th>\n",
              "      <th>max</th>\n",
              "      <th>count</th>\n",
              "      <th>mean</th>\n",
              "      <th>std</th>\n",
              "      <th>min</th>\n",
              "      <th>25%</th>\n",
              "      <th>50%</th>\n",
              "      <th>75%</th>\n",
              "      <th>max</th>\n",
              "      <th>...</th>\n",
              "      <th>count</th>\n",
              "      <th>mean</th>\n",
              "      <th>std</th>\n",
              "      <th>min</th>\n",
              "      <th>25%</th>\n",
              "      <th>50%</th>\n",
              "      <th>75%</th>\n",
              "      <th>max</th>\n",
              "      <th>count</th>\n",
              "      <th>mean</th>\n",
              "      <th>std</th>\n",
              "      <th>min</th>\n",
              "      <th>25%</th>\n",
              "      <th>50%</th>\n",
              "      <th>75%</th>\n",
              "      <th>max</th>\n",
              "      <th>count</th>\n",
              "      <th>mean</th>\n",
              "      <th>std</th>\n",
              "      <th>min</th>\n",
              "      <th>25%</th>\n",
              "      <th>50%</th>\n",
              "      <th>75%</th>\n",
              "      <th>max</th>\n",
              "      <th>count</th>\n",
              "      <th>mean</th>\n",
              "      <th>std</th>\n",
              "      <th>min</th>\n",
              "      <th>25%</th>\n",
              "      <th>50%</th>\n",
              "      <th>75%</th>\n",
              "      <th>max</th>\n",
              "      <th>count</th>\n",
              "      <th>mean</th>\n",
              "      <th>std</th>\n",
              "      <th>min</th>\n",
              "      <th>25%</th>\n",
              "      <th>50%</th>\n",
              "      <th>75%</th>\n",
              "      <th>max</th>\n",
              "    </tr>\n",
              "    <tr>\n",
              "      <th>Personal Loan</th>\n",
              "      <th></th>\n",
              "      <th></th>\n",
              "      <th></th>\n",
              "      <th></th>\n",
              "      <th></th>\n",
              "      <th></th>\n",
              "      <th></th>\n",
              "      <th></th>\n",
              "      <th></th>\n",
              "      <th></th>\n",
              "      <th></th>\n",
              "      <th></th>\n",
              "      <th></th>\n",
              "      <th></th>\n",
              "      <th></th>\n",
              "      <th></th>\n",
              "      <th></th>\n",
              "      <th></th>\n",
              "      <th></th>\n",
              "      <th></th>\n",
              "      <th></th>\n",
              "      <th></th>\n",
              "      <th></th>\n",
              "      <th></th>\n",
              "      <th></th>\n",
              "      <th></th>\n",
              "      <th></th>\n",
              "      <th></th>\n",
              "      <th></th>\n",
              "      <th></th>\n",
              "      <th></th>\n",
              "      <th></th>\n",
              "      <th></th>\n",
              "      <th></th>\n",
              "      <th></th>\n",
              "      <th></th>\n",
              "      <th></th>\n",
              "      <th></th>\n",
              "      <th></th>\n",
              "      <th></th>\n",
              "      <th></th>\n",
              "      <th></th>\n",
              "      <th></th>\n",
              "      <th></th>\n",
              "      <th></th>\n",
              "      <th></th>\n",
              "      <th></th>\n",
              "      <th></th>\n",
              "      <th></th>\n",
              "      <th></th>\n",
              "      <th></th>\n",
              "      <th></th>\n",
              "      <th></th>\n",
              "      <th></th>\n",
              "      <th></th>\n",
              "      <th></th>\n",
              "      <th></th>\n",
              "      <th></th>\n",
              "      <th></th>\n",
              "      <th></th>\n",
              "      <th></th>\n",
              "      <th></th>\n",
              "      <th></th>\n",
              "      <th></th>\n",
              "      <th></th>\n",
              "      <th></th>\n",
              "      <th></th>\n",
              "      <th></th>\n",
              "      <th></th>\n",
              "      <th></th>\n",
              "      <th></th>\n",
              "      <th></th>\n",
              "      <th></th>\n",
              "      <th></th>\n",
              "      <th></th>\n",
              "      <th></th>\n",
              "      <th></th>\n",
              "      <th></th>\n",
              "      <th></th>\n",
              "      <th></th>\n",
              "      <th></th>\n",
              "    </tr>\n",
              "  </thead>\n",
              "  <tbody>\n",
              "    <tr>\n",
              "      <th>0</th>\n",
              "      <td>4520.0</td>\n",
              "      <td>45.367257</td>\n",
              "      <td>11.450427</td>\n",
              "      <td>23.0</td>\n",
              "      <td>35.0</td>\n",
              "      <td>45.0</td>\n",
              "      <td>55.0</td>\n",
              "      <td>67.0</td>\n",
              "      <td>4520.0</td>\n",
              "      <td>20.132301</td>\n",
              "      <td>11.456672</td>\n",
              "      <td>-3.0</td>\n",
              "      <td>10.0</td>\n",
              "      <td>20.0</td>\n",
              "      <td>30.0</td>\n",
              "      <td>43.0</td>\n",
              "      <td>4520.0</td>\n",
              "      <td>66.237389</td>\n",
              "      <td>40.578534</td>\n",
              "      <td>8.0</td>\n",
              "      <td>35.0</td>\n",
              "      <td>59.0</td>\n",
              "      <td>84.0</td>\n",
              "      <td>224.0</td>\n",
              "      <td>4520.0</td>\n",
              "      <td>93152.428761</td>\n",
              "      <td>2156.949654</td>\n",
              "      <td>9307.0</td>\n",
              "      <td>91911.00</td>\n",
              "      <td>93437.0</td>\n",
              "      <td>94608.0</td>\n",
              "      <td>96651.0</td>\n",
              "      <td>4520.0</td>\n",
              "      <td>2.373451</td>\n",
              "      <td>1.148771</td>\n",
              "      <td>1.0</td>\n",
              "      <td>1.0</td>\n",
              "      <td>2.0</td>\n",
              "      <td>3.0</td>\n",
              "      <td>4.0</td>\n",
              "      <td>...</td>\n",
              "      <td>4520.0</td>\n",
              "      <td>51.789381</td>\n",
              "      <td>92.038931</td>\n",
              "      <td>0.0</td>\n",
              "      <td>0.0</td>\n",
              "      <td>0.0</td>\n",
              "      <td>98.0</td>\n",
              "      <td>635.0</td>\n",
              "      <td>4520.0</td>\n",
              "      <td>0.102212</td>\n",
              "      <td>0.302961</td>\n",
              "      <td>0.0</td>\n",
              "      <td>0.0</td>\n",
              "      <td>0.0</td>\n",
              "      <td>0.0</td>\n",
              "      <td>1.0</td>\n",
              "      <td>4520.0</td>\n",
              "      <td>0.035841</td>\n",
              "      <td>0.185913</td>\n",
              "      <td>0.0</td>\n",
              "      <td>0.0</td>\n",
              "      <td>0.0</td>\n",
              "      <td>0.0</td>\n",
              "      <td>1.0</td>\n",
              "      <td>4520.0</td>\n",
              "      <td>0.595796</td>\n",
              "      <td>0.490792</td>\n",
              "      <td>0.0</td>\n",
              "      <td>0.0</td>\n",
              "      <td>1.0</td>\n",
              "      <td>1.0</td>\n",
              "      <td>1.0</td>\n",
              "      <td>4520.0</td>\n",
              "      <td>0.293584</td>\n",
              "      <td>0.455454</td>\n",
              "      <td>0.0</td>\n",
              "      <td>0.0</td>\n",
              "      <td>0.0</td>\n",
              "      <td>1.0</td>\n",
              "      <td>1.0</td>\n",
              "    </tr>\n",
              "    <tr>\n",
              "      <th>1</th>\n",
              "      <td>480.0</td>\n",
              "      <td>45.066667</td>\n",
              "      <td>11.590964</td>\n",
              "      <td>26.0</td>\n",
              "      <td>35.0</td>\n",
              "      <td>45.0</td>\n",
              "      <td>55.0</td>\n",
              "      <td>65.0</td>\n",
              "      <td>480.0</td>\n",
              "      <td>19.843750</td>\n",
              "      <td>11.582443</td>\n",
              "      <td>0.0</td>\n",
              "      <td>9.0</td>\n",
              "      <td>20.0</td>\n",
              "      <td>30.0</td>\n",
              "      <td>41.0</td>\n",
              "      <td>480.0</td>\n",
              "      <td>144.745833</td>\n",
              "      <td>31.584429</td>\n",
              "      <td>60.0</td>\n",
              "      <td>122.0</td>\n",
              "      <td>142.5</td>\n",
              "      <td>172.0</td>\n",
              "      <td>203.0</td>\n",
              "      <td>480.0</td>\n",
              "      <td>93153.202083</td>\n",
              "      <td>1759.223753</td>\n",
              "      <td>90016.0</td>\n",
              "      <td>91908.75</td>\n",
              "      <td>93407.0</td>\n",
              "      <td>94705.5</td>\n",
              "      <td>96008.0</td>\n",
              "      <td>480.0</td>\n",
              "      <td>2.612500</td>\n",
              "      <td>1.115393</td>\n",
              "      <td>1.0</td>\n",
              "      <td>2.0</td>\n",
              "      <td>3.0</td>\n",
              "      <td>4.0</td>\n",
              "      <td>4.0</td>\n",
              "      <td>...</td>\n",
              "      <td>480.0</td>\n",
              "      <td>100.845833</td>\n",
              "      <td>160.847862</td>\n",
              "      <td>0.0</td>\n",
              "      <td>0.0</td>\n",
              "      <td>0.0</td>\n",
              "      <td>192.5</td>\n",
              "      <td>617.0</td>\n",
              "      <td>480.0</td>\n",
              "      <td>0.125000</td>\n",
              "      <td>0.331064</td>\n",
              "      <td>0.0</td>\n",
              "      <td>0.0</td>\n",
              "      <td>0.0</td>\n",
              "      <td>0.0</td>\n",
              "      <td>1.0</td>\n",
              "      <td>480.0</td>\n",
              "      <td>0.291667</td>\n",
              "      <td>0.455004</td>\n",
              "      <td>0.0</td>\n",
              "      <td>0.0</td>\n",
              "      <td>0.0</td>\n",
              "      <td>1.0</td>\n",
              "      <td>1.0</td>\n",
              "      <td>480.0</td>\n",
              "      <td>0.606250</td>\n",
              "      <td>0.489090</td>\n",
              "      <td>0.0</td>\n",
              "      <td>0.0</td>\n",
              "      <td>1.0</td>\n",
              "      <td>1.0</td>\n",
              "      <td>1.0</td>\n",
              "      <td>480.0</td>\n",
              "      <td>0.297917</td>\n",
              "      <td>0.457820</td>\n",
              "      <td>0.0</td>\n",
              "      <td>0.0</td>\n",
              "      <td>0.0</td>\n",
              "      <td>1.0</td>\n",
              "      <td>1.0</td>\n",
              "    </tr>\n",
              "  </tbody>\n",
              "</table>\n",
              "<p>2 rows × 96 columns</p>\n",
              "</div>"
            ],
            "text/plain": [
              "                  Age                              ... CreditCard               \n",
              "                count       mean        std   min  ...        25%  50%  75%  max\n",
              "Personal Loan                                      ...                          \n",
              "0              4520.0  45.367257  11.450427  23.0  ...        0.0  0.0  1.0  1.0\n",
              "1               480.0  45.066667  11.590964  26.0  ...        0.0  0.0  1.0  1.0\n",
              "\n",
              "[2 rows x 96 columns]"
            ]
          },
          "metadata": {
            "tags": []
          },
          "execution_count": 18
        }
      ]
    },
    {
      "cell_type": "markdown",
      "metadata": {
        "id": "s3lCDc_mZbdE",
        "colab_type": "text"
      },
      "source": [
        "# Data Visualization"
      ]
    },
    {
      "cell_type": "code",
      "metadata": {
        "id": "wBMHqkJcUFRA",
        "colab_type": "code",
        "outputId": "b1befd88-8ffc-40c5-b4e4-f6a3a3b9969d",
        "colab": {
          "base_uri": "https://localhost:8080/",
          "height": 286
        }
      },
      "source": [
        "plt.scatter(ID,case_study_data['Income'])"
      ],
      "execution_count": 0,
      "outputs": [
        {
          "output_type": "execute_result",
          "data": {
            "text/plain": [
              "<matplotlib.collections.PathCollection at 0x7fb1e5f39908>"
            ]
          },
          "metadata": {
            "tags": []
          },
          "execution_count": 19
        },
        {
          "output_type": "display_data",
          "data": {
            "image/png": "[encoded data removed]",
            "text/plain": [
              "<Figure size 432x288 with 1 Axes>"
            ]
          },
          "metadata": {
            "tags": []
          }
        }
      ]
    },
    {
      "cell_type": "code",
      "metadata": {
        "id": "fL5sWcAUUKiQ",
        "colab_type": "code",
        "outputId": "6084fafa-0759-466d-c798-ece9670efc26",
        "colab": {
          "base_uri": "https://localhost:8080/",
          "height": 286
        }
      },
      "source": [
        "plt.scatter(ID,case_study_data['CCAvg'])"
      ],
      "execution_count": 0,
      "outputs": [
        {
          "output_type": "execute_result",
          "data": {
            "text/plain": [
              "<matplotlib.collections.PathCollection at 0x7fb1e3ec3048>"
            ]
          },
          "metadata": {
            "tags": []
          },
          "execution_count": 20
        },
        {
          "output_type": "display_data",
          "data": {
            "image/png": "[encoded data removed]",
            "text/plain": [
              "<Figure size 432x288 with 1 Axes>"
            ]
          },
          "metadata": {
            "tags": []
          }
        }
      ]
    },
    {
      "cell_type": "code",
      "metadata": {
        "id": "hnzJX55jUNmU",
        "colab_type": "code",
        "outputId": "a29a9039-6e8c-47e4-94b1-510b592a2bb0",
        "colab": {
          "base_uri": "https://localhost:8080/",
          "height": 286
        }
      },
      "source": [
        "plt.scatter(ID,case_study_data['Mortgage'])"
      ],
      "execution_count": 0,
      "outputs": [
        {
          "output_type": "execute_result",
          "data": {
            "text/plain": [
              "<matplotlib.collections.PathCollection at 0x7fb1e3e1db38>"
            ]
          },
          "metadata": {
            "tags": []
          },
          "execution_count": 21
        },
        {
          "output_type": "display_data",
          "data": {
            "image/png": "[encoded data removed]",
            "text/plain": [
              "<Figure size 432x288 with 1 Axes>"
            ]
          },
          "metadata": {
            "tags": []
          }
        }
      ]
    },
    {
      "cell_type": "markdown",
      "metadata": {
        "id": "MmM8B62UZqsv",
        "colab_type": "text"
      },
      "source": [
        "#Data Creation and column selection"
      ]
    },
    {
      "cell_type": "markdown",
      "metadata": {
        "id": "yMazLW4JVrq9",
        "colab_type": "text"
      },
      "source": [
        "<img src = \"https://upload.wikimedia.org/wikipedia/commons/thumb/1/1a/Boxplot_vs_PDF.svg/250px-Boxplot_vs_PDF.svg.png\">"
      ]
    },
    {
      "cell_type": "code",
      "metadata": {
        "id": "oE9RVf80VB_4",
        "colab_type": "code",
        "colab": {}
      },
      "source": [
        " def remove_outlier(df_in, col_name):\n",
        "    q1 = df_in[col_name].quantile(0.25)\n",
        "    q3 = df_in[col_name].quantile(0.75)\n",
        "    iqr = q3-q1 #Interquartile range\n",
        "    fence_low  = q1-1.5*iqr\n",
        "    fence_high = q3+1.5*iqr\n",
        "    df_out = df_in.loc[(df_in[col_name] > fence_low) & (df_in[col_name] < fence_high)]\n",
        "    return df_out"
      ],
      "execution_count": 0,
      "outputs": []
    },
    {
      "cell_type": "code",
      "metadata": {
        "id": "7_TxLlU2V9op",
        "colab_type": "code",
        "outputId": "344e8701-9d88-438a-d39c-8cecbbf730e1",
        "colab": {
          "base_uri": "https://localhost:8080/",
          "height": 1000
        }
      },
      "source": [
        "col_name = ['Age', 'Experience', 'Income', 'CCAvg','Education', 'Mortgage']\n",
        "with_outliers = case_study_data\n",
        "print(col_name)\n",
        "for i in col_name:\n",
        "    print(i)\n",
        "    print(case_study_data.count())\n",
        "    case_study_data = remove_outlier(case_study_data,i)"
      ],
      "execution_count": 0,
      "outputs": [
        {
          "output_type": "stream",
          "text": [
            "['Age', 'Experience', 'Income', 'CCAvg', 'Education', 'Mortgage']\n",
            "Age\n",
            "Age                   5000\n",
            "Experience            5000\n",
            "Income                5000\n",
            "ZIP Code              5000\n",
            "Family                5000\n",
            "CCAvg                 5000\n",
            "Education             5000\n",
            "Mortgage              5000\n",
            "Personal Loan         5000\n",
            "Securities Account    5000\n",
            "CD Account            5000\n",
            "Online                5000\n",
            "CreditCard            5000\n",
            "dtype: int64\n",
            "Experience\n",
            "Age                   5000\n",
            "Experience            5000\n",
            "Income                5000\n",
            "ZIP Code              5000\n",
            "Family                5000\n",
            "CCAvg                 5000\n",
            "Education             5000\n",
            "Mortgage              5000\n",
            "Personal Loan         5000\n",
            "Securities Account    5000\n",
            "CD Account            5000\n",
            "Online                5000\n",
            "CreditCard            5000\n",
            "dtype: int64\n",
            "Income\n",
            "Age                   5000\n",
            "Experience            5000\n",
            "Income                5000\n",
            "ZIP Code              5000\n",
            "Family                5000\n",
            "CCAvg                 5000\n",
            "Education             5000\n",
            "Mortgage              5000\n",
            "Personal Loan         5000\n",
            "Securities Account    5000\n",
            "CD Account            5000\n",
            "Online                5000\n",
            "CreditCard            5000\n",
            "dtype: int64\n",
            "CCAvg\n",
            "Age                   4904\n",
            "Experience            4904\n",
            "Income                4904\n",
            "ZIP Code              4904\n",
            "Family                4904\n",
            "CCAvg                 4904\n",
            "Education             4904\n",
            "Mortgage              4904\n",
            "Personal Loan         4904\n",
            "Securities Account    4904\n",
            "CD Account            4904\n",
            "Online                4904\n",
            "CreditCard            4904\n",
            "dtype: int64\n",
            "Education\n",
            "Age                   4609\n",
            "Experience            4609\n",
            "Income                4609\n",
            "ZIP Code              4609\n",
            "Family                4609\n",
            "CCAvg                 4609\n",
            "Education             4609\n",
            "Mortgage              4609\n",
            "Personal Loan         4609\n",
            "Securities Account    4609\n",
            "CD Account            4609\n",
            "Online                4609\n",
            "CreditCard            4609\n",
            "dtype: int64\n",
            "Mortgage\n",
            "Age                   4609\n",
            "Experience            4609\n",
            "Income                4609\n",
            "ZIP Code              4609\n",
            "Family                4609\n",
            "CCAvg                 4609\n",
            "Education             4609\n",
            "Mortgage              4609\n",
            "Personal Loan         4609\n",
            "Securities Account    4609\n",
            "CD Account            4609\n",
            "Online                4609\n",
            "CreditCard            4609\n",
            "dtype: int64\n"
          ],
          "name": "stdout"
        }
      ]
    },
    {
      "cell_type": "code",
      "metadata": {
        "id": "hhV8_bbqWAsd",
        "colab_type": "code",
        "outputId": "ab96524e-7988-4dcd-cfb0-93948bb1a347",
        "colab": {
          "base_uri": "https://localhost:8080/",
          "height": 255
        }
      },
      "source": [
        "case_study_data.count()"
      ],
      "execution_count": 0,
      "outputs": [
        {
          "output_type": "execute_result",
          "data": {
            "text/plain": [
              "Age                   4358\n",
              "Experience            4358\n",
              "Income                4358\n",
              "ZIP Code              4358\n",
              "Family                4358\n",
              "CCAvg                 4358\n",
              "Education             4358\n",
              "Mortgage              4358\n",
              "Personal Loan         4358\n",
              "Securities Account    4358\n",
              "CD Account            4358\n",
              "Online                4358\n",
              "CreditCard            4358\n",
              "dtype: int64"
            ]
          },
          "metadata": {
            "tags": []
          },
          "execution_count": 24
        }
      ]
    },
    {
      "cell_type": "code",
      "metadata": {
        "id": "sO9B31v4WFCc",
        "colab_type": "code",
        "outputId": "4cedf902-94ee-47bb-ace1-afc20d2fc8ba",
        "colab": {
          "base_uri": "https://localhost:8080/",
          "height": 142
        }
      },
      "source": [
        "case_study_data.groupby(['Personal Loan']).mean()"
      ],
      "execution_count": 0,
      "outputs": [
        {
          "output_type": "execute_result",
          "data": {
            "text/html": [
              "<div>\n",
              "<style scoped>\n",
              "    .dataframe tbody tr th:only-of-type {\n",
              "        vertical-align: middle;\n",
              "    }\n",
              "\n",
              "    .dataframe tbody tr th {\n",
              "        vertical-align: top;\n",
              "    }\n",
              "\n",
              "    .dataframe thead th {\n",
              "        text-align: right;\n",
              "    }\n",
              "</style>\n",
              "<table border=\"1\" class=\"dataframe\">\n",
              "  <thead>\n",
              "    <tr style=\"text-align: right;\">\n",
              "      <th></th>\n",
              "      <th>Age</th>\n",
              "      <th>Experience</th>\n",
              "      <th>Income</th>\n",
              "      <th>ZIP Code</th>\n",
              "      <th>Family</th>\n",
              "      <th>CCAvg</th>\n",
              "      <th>Education</th>\n",
              "      <th>Mortgage</th>\n",
              "      <th>Securities Account</th>\n",
              "      <th>CD Account</th>\n",
              "      <th>Online</th>\n",
              "      <th>CreditCard</th>\n",
              "    </tr>\n",
              "    <tr>\n",
              "      <th>Personal Loan</th>\n",
              "      <th></th>\n",
              "      <th></th>\n",
              "      <th></th>\n",
              "      <th></th>\n",
              "      <th></th>\n",
              "      <th></th>\n",
              "      <th></th>\n",
              "      <th></th>\n",
              "      <th></th>\n",
              "      <th></th>\n",
              "      <th></th>\n",
              "      <th></th>\n",
              "    </tr>\n",
              "  </thead>\n",
              "  <tbody>\n",
              "    <tr>\n",
              "      <th>0</th>\n",
              "      <td>45.590909</td>\n",
              "      <td>20.326979</td>\n",
              "      <td>59.323558</td>\n",
              "      <td>93154.809873</td>\n",
              "      <td>2.439883</td>\n",
              "      <td>1.444775</td>\n",
              "      <td>1.903715</td>\n",
              "      <td>37.746823</td>\n",
              "      <td>0.103128</td>\n",
              "      <td>0.033724</td>\n",
              "      <td>0.595552</td>\n",
              "      <td>0.297410</td>\n",
              "    </tr>\n",
              "    <tr>\n",
              "      <th>1</th>\n",
              "      <td>44.774436</td>\n",
              "      <td>19.676692</td>\n",
              "      <td>132.785714</td>\n",
              "      <td>93159.977444</td>\n",
              "      <td>2.496241</td>\n",
              "      <td>2.991917</td>\n",
              "      <td>2.236842</td>\n",
              "      <td>29.240602</td>\n",
              "      <td>0.124060</td>\n",
              "      <td>0.251880</td>\n",
              "      <td>0.563910</td>\n",
              "      <td>0.285714</td>\n",
              "    </tr>\n",
              "  </tbody>\n",
              "</table>\n",
              "</div>"
            ],
            "text/plain": [
              "                     Age  Experience  ...    Online  CreditCard\n",
              "Personal Loan                         ...                      \n",
              "0              45.590909   20.326979  ...  0.595552    0.297410\n",
              "1              44.774436   19.676692  ...  0.563910    0.285714\n",
              "\n",
              "[2 rows x 12 columns]"
            ]
          },
          "metadata": {
            "tags": []
          },
          "execution_count": 25
        }
      ]
    },
    {
      "cell_type": "code",
      "metadata": {
        "id": "rL5pRBYTWH9Z",
        "colab_type": "code",
        "colab": {}
      },
      "source": [
        "case_study_data_clean = case_study_data.drop(['Age','Family','Online'],axis = 1)"
      ],
      "execution_count": 0,
      "outputs": []
    },
    {
      "cell_type": "code",
      "metadata": {
        "id": "dceMNKLPWLaA",
        "colab_type": "code",
        "colab": {}
      },
      "source": [
        "X = case_study_data.loc[:, case_study_data.columns != 'Personal Loan']\n",
        "Y = case_study_data['Personal Loan'] \n",
        "X_o = with_outliers.loc[:, with_outliers.columns != 'Personal Loan']\n",
        "Y_o = with_outliers['Personal Loan'] \n"
      ],
      "execution_count": 0,
      "outputs": []
    },
    {
      "cell_type": "code",
      "metadata": {
        "id": "7uLD00K7WReD",
        "colab_type": "code",
        "colab": {}
      },
      "source": [
        "X_train, X_test, y_train, y_test = train_test_split(X, Y, test_size=0.30, random_state=42)\n",
        "X_o_train, X_o_test, y_o_train, y_o_test = train_test_split(X_o, Y_o, test_size=0.30, random_state=42)"
      ],
      "execution_count": 0,
      "outputs": []
    },
    {
      "cell_type": "code",
      "metadata": {
        "id": "fEwikmV6WWuj",
        "colab_type": "code",
        "colab": {}
      },
      "source": [
        "smote_sample = SMOTE(random_state=0)\n",
        "adasyn_sample = ADASYN(random_state=0)\n",
        "columns = X.columns"
      ],
      "execution_count": 0,
      "outputs": []
    },
    {
      "cell_type": "code",
      "metadata": {
        "id": "UyjZQiVlWaNW",
        "colab_type": "code",
        "colab": {}
      },
      "source": [
        "smote_sample_data_X,smote_sample_data_y=smote_sample.fit_sample(X_train, y_train)\n",
        "adasyn_sample_data_X,adasyn_sample_data_y=adasyn_sample.fit_sample(X_train, y_train)\n",
        "smote_sample_data_X_o,smote_sample_data_y_o=smote_sample.fit_sample(X_o_train, y_o_train)\n",
        "adasyn_sample_data_X_o,adasyn_sample_data_y_o=adasyn_sample.fit_sample(X_o_train, y_o_train)"
      ],
      "execution_count": 0,
      "outputs": []
    },
    {
      "cell_type": "code",
      "metadata": {
        "id": "gkWX1Y3rXKlg",
        "colab_type": "code",
        "colab": {}
      },
      "source": [
        "smote_sample_data_X = pd.DataFrame(data=smote_sample_data_X,columns=columns )\n",
        "smote_sample_data_y= pd.DataFrame(data=smote_sample_data_y,columns=['Personal Loan'])\n",
        "smote_sample_data_X_o = pd.DataFrame(data=smote_sample_data_X_o,columns=columns )\n",
        "smote_sample_data_y_o= pd.DataFrame(data=smote_sample_data_y_o,columns=['Personal Loan'])"
      ],
      "execution_count": 0,
      "outputs": []
    },
    {
      "cell_type": "code",
      "metadata": {
        "id": "theE9CRzXrQA",
        "colab_type": "code",
        "colab": {}
      },
      "source": [
        "adasyn_sample_data_X = pd.DataFrame(data=adasyn_sample_data_X,columns=columns )\n",
        "adasyn_sample_data_y= pd.DataFrame(data=adasyn_sample_data_y,columns=['Personal Loan'])\n",
        "adasyn_sample_data_X_o = pd.DataFrame(data=adasyn_sample_data_X_o,columns=columns )\n",
        "adasyn_sample_data_y_o= pd.DataFrame(data=adasyn_sample_data_y_o,columns=['Personal Loan'])"
      ],
      "execution_count": 0,
      "outputs": []
    },
    {
      "cell_type": "code",
      "metadata": {
        "id": "IrpOllAhYcIu",
        "colab_type": "code",
        "outputId": "c248762d-2237-4f6d-8442-b05e2d9597c6",
        "colab": {
          "base_uri": "https://localhost:8080/",
          "height": 102
        }
      },
      "source": [
        "print(\"length of oversampled data is \",len(smote_sample_data_X))\n",
        "print(\"Number of no loan\",len(smote_sample_data_y[smote_sample_data_y['Personal Loan']==0]))\n",
        "print(\"Number of loan in oversampled data\",len(smote_sample_data_y[smote_sample_data_y['Personal Loan']==1]))\n",
        "print(\"Proportion of no loan data in oversampled data is \",len(smote_sample_data_y[smote_sample_data_y['Personal Loan']==0])/len(smote_sample_data_X ))\n",
        "print(\"Proportion of loan data in oversampled data is \",len(smote_sample_data_y[smote_sample_data_y['Personal Loan']==1])/len(smote_sample_data_X ))"
      ],
      "execution_count": 0,
      "outputs": [
        {
          "output_type": "stream",
          "text": [
            "length of oversampled data is  5708\n",
            "Number of no loan 2854\n",
            "Number of loan in oversampled data 2854\n",
            "Proportion of no loan data in oversampled data is  0.5\n",
            "Proportion of loan data in oversampled data is  0.5\n"
          ],
          "name": "stdout"
        }
      ]
    },
    {
      "cell_type": "code",
      "metadata": {
        "id": "2rpzzeMp37r4",
        "colab_type": "code",
        "outputId": "5fa3f593-73a7-406a-b5f3-42264fbce97d",
        "colab": {
          "base_uri": "https://localhost:8080/",
          "height": 102
        }
      },
      "source": [
        "print(\"length of oversampled data is \",len(smote_sample_data_X_o))\n",
        "print(\"Number of no loan\",len(smote_sample_data_y_o[smote_sample_data_y_o['Personal Loan']==0]))\n",
        "print(\"Number of loan in oversampled data\",len(smote_sample_data_y_o[smote_sample_data_y_o['Personal Loan']==1]))\n",
        "print(\"Proportion of no loan data in oversampled data is \",len(smote_sample_data_y_o[smote_sample_data_y_o['Personal Loan']==0])/len(smote_sample_data_X_o ))\n",
        "print(\"Proportion of loan data in oversampled data is \",len(smote_sample_data_y_o[smote_sample_data_y_o['Personal Loan']==1])/len(smote_sample_data_X_o ))"
      ],
      "execution_count": 0,
      "outputs": [
        {
          "output_type": "stream",
          "text": [
            "length of oversampled data is  6354\n",
            "Number of no loan 3177\n",
            "Number of loan in oversampled data 3177\n",
            "Proportion of no loan data in oversampled data is  0.5\n",
            "Proportion of loan data in oversampled data is  0.5\n"
          ],
          "name": "stdout"
        }
      ]
    },
    {
      "cell_type": "code",
      "metadata": {
        "id": "5ty3YdxQaUHy",
        "colab_type": "code",
        "outputId": "8e35a133-8db9-4613-e498-879ae4e59cfe",
        "colab": {
          "base_uri": "https://localhost:8080/",
          "height": 102
        }
      },
      "source": [
        "print(\"length of oversampled data is \",len(adasyn_sample_data_X))\n",
        "print(\"Number of no loan\",len(adasyn_sample_data_y[adasyn_sample_data_y['Personal Loan']==0]))\n",
        "print(\"Number of loan in oversampled data\",len(adasyn_sample_data_y[adasyn_sample_data_y['Personal Loan']==1]))\n",
        "print(\"Proportion of no loan data in oversampled data is \",len(adasyn_sample_data_y[adasyn_sample_data_y['Personal Loan']==0])/len(adasyn_sample_data_X ))\n",
        "print(\"Proportion of loan data in oversampled data is \",len(adasyn_sample_data_y[adasyn_sample_data_y['Personal Loan']==1])/len(adasyn_sample_data_X ))"
      ],
      "execution_count": 0,
      "outputs": [
        {
          "output_type": "stream",
          "text": [
            "length of oversampled data is  5696\n",
            "Number of no loan 2854\n",
            "Number of loan in oversampled data 2842\n",
            "Proportion of no loan data in oversampled data is  0.5010533707865169\n",
            "Proportion of loan data in oversampled data is  0.49894662921348315\n"
          ],
          "name": "stdout"
        }
      ]
    },
    {
      "cell_type": "code",
      "metadata": {
        "id": "jM2Q1N2E4REg",
        "colab_type": "code",
        "outputId": "0b00b462-b173-4776-bc44-b2a93c756401",
        "colab": {
          "base_uri": "https://localhost:8080/",
          "height": 102
        }
      },
      "source": [
        "print(\"length of oversampled data is \",len(adasyn_sample_data_X_o))\n",
        "print(\"Number of no loan\",len(adasyn_sample_data_y_o[adasyn_sample_data_y_o['Personal Loan']==0]))\n",
        "print(\"Number of loan in oversampled data\",len(adasyn_sample_data_y_o[adasyn_sample_data_y_o['Personal Loan']==1]))\n",
        "print(\"Proportion of no loan data in oversampled data is \",len(adasyn_sample_data_y_o[adasyn_sample_data_y_o['Personal Loan']==0])/len(adasyn_sample_data_X_o ))\n",
        "print(\"Proportion of loan data in oversampled data is \",len(adasyn_sample_data_y_o[adasyn_sample_data_y_o['Personal Loan']==1])/len(adasyn_sample_data_X_o ))"
      ],
      "execution_count": 0,
      "outputs": [
        {
          "output_type": "stream",
          "text": [
            "length of oversampled data is  6276\n",
            "Number of no loan 3177\n",
            "Number of loan in oversampled data 3099\n",
            "Proportion of no loan data in oversampled data is  0.5062141491395793\n",
            "Proportion of loan data in oversampled data is  0.49378585086042065\n"
          ],
          "name": "stdout"
        }
      ]
    },
    {
      "cell_type": "code",
      "metadata": {
        "id": "u0nrJU_3a7T8",
        "colab_type": "code",
        "colab": {}
      },
      "source": [
        "y=['Personal Loan']\n",
        "x=columns.tolist()"
      ],
      "execution_count": 0,
      "outputs": []
    },
    {
      "cell_type": "code",
      "metadata": {
        "id": "ekEEh9QbeXa5",
        "colab_type": "code",
        "outputId": "a75475fe-313a-4cea-c8b9-297dd075b799",
        "colab": {
          "base_uri": "https://localhost:8080/",
          "height": 159
        }
      },
      "source": [
        "logreg = LogisticRegression()\n",
        "rfe_S = RFE(logreg, 11)\n",
        "rfe_S = rfe_S.fit(smote_sample_data_X, smote_sample_data_y.values.ravel())\n",
        "print(rfe_S.support_)\n",
        "print(rfe_S.ranking_)"
      ],
      "execution_count": 0,
      "outputs": [
        {
          "output_type": "stream",
          "text": [
            "[ True  True  True False  True  True  True  True  True  True  True  True]\n",
            "[1 1 1 2 1 1 1 1 1 1 1 1]\n"
          ],
          "name": "stdout"
        },
        {
          "output_type": "stream",
          "text": [
            "/usr/local/lib/python3.6/dist-packages/sklearn/linear_model/logistic.py:432: FutureWarning: Default solver will be changed to 'lbfgs' in 0.22. Specify a solver to silence this warning.\n",
            "  FutureWarning)\n",
            "/usr/local/lib/python3.6/dist-packages/sklearn/linear_model/logistic.py:432: FutureWarning: Default solver will be changed to 'lbfgs' in 0.22. Specify a solver to silence this warning.\n",
            "  FutureWarning)\n"
          ],
          "name": "stderr"
        }
      ]
    },
    {
      "cell_type": "code",
      "metadata": {
        "id": "oYSLJ5mU4qOG",
        "colab_type": "code",
        "outputId": "e055891c-608d-4661-801d-f5fef6150b61",
        "colab": {
          "base_uri": "https://localhost:8080/",
          "height": 159
        }
      },
      "source": [
        "logreg = LogisticRegression()\n",
        "rfe_S = RFE(logreg, 11)\n",
        "rfe_S = rfe_S.fit(smote_sample_data_X_o, smote_sample_data_y_o.values.ravel())\n",
        "print(rfe_S.support_)\n",
        "print(rfe_S.ranking_)"
      ],
      "execution_count": 0,
      "outputs": [
        {
          "output_type": "stream",
          "text": [
            "/usr/local/lib/python3.6/dist-packages/sklearn/linear_model/logistic.py:432: FutureWarning: Default solver will be changed to 'lbfgs' in 0.22. Specify a solver to silence this warning.\n",
            "  FutureWarning)\n"
          ],
          "name": "stderr"
        },
        {
          "output_type": "stream",
          "text": [
            "[ True  True  True False  True  True  True  True  True  True  True  True]\n",
            "[1 1 1 2 1 1 1 1 1 1 1 1]\n"
          ],
          "name": "stdout"
        },
        {
          "output_type": "stream",
          "text": [
            "/usr/local/lib/python3.6/dist-packages/sklearn/linear_model/logistic.py:432: FutureWarning: Default solver will be changed to 'lbfgs' in 0.22. Specify a solver to silence this warning.\n",
            "  FutureWarning)\n"
          ],
          "name": "stderr"
        }
      ]
    },
    {
      "cell_type": "code",
      "metadata": {
        "id": "SkPowJSBeaso",
        "colab_type": "code",
        "outputId": "0e6619ba-7a7e-4ec2-d934-c1ba77c71a5b",
        "colab": {
          "base_uri": "https://localhost:8080/",
          "height": 221
        }
      },
      "source": [
        "x"
      ],
      "execution_count": 0,
      "outputs": [
        {
          "output_type": "execute_result",
          "data": {
            "text/plain": [
              "['Age',\n",
              " 'Experience',\n",
              " 'Income',\n",
              " 'ZIP Code',\n",
              " 'Family',\n",
              " 'CCAvg',\n",
              " 'Education',\n",
              " 'Mortgage',\n",
              " 'Securities Account',\n",
              " 'CD Account',\n",
              " 'Online',\n",
              " 'CreditCard']"
            ]
          },
          "metadata": {
            "tags": []
          },
          "execution_count": 40
        }
      ]
    },
    {
      "cell_type": "code",
      "metadata": {
        "id": "-_l2yYNCfqEe",
        "colab_type": "code",
        "outputId": "be5272ba-1263-4493-fd57-789483604d97",
        "colab": {
          "base_uri": "https://localhost:8080/",
          "height": 159
        }
      },
      "source": [
        "logreg = LogisticRegression()\n",
        "rfe = RFE(logreg, 11)\n",
        "rfe = rfe.fit(adasyn_sample_data_X, adasyn_sample_data_y.values.ravel())\n",
        "print(rfe.support_)\n",
        "print(rfe.ranking_)"
      ],
      "execution_count": 0,
      "outputs": [
        {
          "output_type": "stream",
          "text": [
            "/usr/local/lib/python3.6/dist-packages/sklearn/linear_model/logistic.py:432: FutureWarning: Default solver will be changed to 'lbfgs' in 0.22. Specify a solver to silence this warning.\n",
            "  FutureWarning)\n",
            "/usr/local/lib/python3.6/dist-packages/sklearn/linear_model/logistic.py:432: FutureWarning: Default solver will be changed to 'lbfgs' in 0.22. Specify a solver to silence this warning.\n",
            "  FutureWarning)\n"
          ],
          "name": "stderr"
        },
        {
          "output_type": "stream",
          "text": [
            "[ True  True  True False  True  True  True  True  True  True  True  True]\n",
            "[1 1 1 2 1 1 1 1 1 1 1 1]\n"
          ],
          "name": "stdout"
        }
      ]
    },
    {
      "cell_type": "code",
      "metadata": {
        "id": "fqIZoI-s5AQ5",
        "colab_type": "code",
        "outputId": "a924a9aa-64c2-4c89-f9ec-da2de91a87d9",
        "colab": {
          "base_uri": "https://localhost:8080/",
          "height": 159
        }
      },
      "source": [
        "logreg = LogisticRegression()\n",
        "rfe = RFE(logreg, 11)\n",
        "rfe = rfe.fit(adasyn_sample_data_X_o, adasyn_sample_data_y_o.values.ravel())\n",
        "print(rfe.support_)\n",
        "print(rfe.ranking_)"
      ],
      "execution_count": 0,
      "outputs": [
        {
          "output_type": "stream",
          "text": [
            "/usr/local/lib/python3.6/dist-packages/sklearn/linear_model/logistic.py:432: FutureWarning: Default solver will be changed to 'lbfgs' in 0.22. Specify a solver to silence this warning.\n",
            "  FutureWarning)\n",
            "/usr/local/lib/python3.6/dist-packages/sklearn/linear_model/logistic.py:432: FutureWarning: Default solver will be changed to 'lbfgs' in 0.22. Specify a solver to silence this warning.\n",
            "  FutureWarning)\n"
          ],
          "name": "stderr"
        },
        {
          "output_type": "stream",
          "text": [
            "[ True  True  True False  True  True  True  True  True  True  True  True]\n",
            "[1 1 1 2 1 1 1 1 1 1 1 1]\n"
          ],
          "name": "stdout"
        }
      ]
    },
    {
      "cell_type": "code",
      "metadata": {
        "id": "A_zFkYhbgcAl",
        "colab_type": "code",
        "outputId": "23c365a1-cae8-448f-f74a-cf1b603d7451",
        "colab": {
          "base_uri": "https://localhost:8080/",
          "height": 329
        }
      },
      "source": [
        "logreg = LogisticRegression()\n",
        "rfe = RFE(logreg, 6)\n",
        "rfe = rfe.fit(X_train, y_train.values.ravel())\n",
        "print(rfe.support_)\n",
        "print(rfe.ranking_)"
      ],
      "execution_count": 0,
      "outputs": [
        {
          "output_type": "stream",
          "text": [
            "/usr/local/lib/python3.6/dist-packages/sklearn/linear_model/logistic.py:432: FutureWarning: Default solver will be changed to 'lbfgs' in 0.22. Specify a solver to silence this warning.\n",
            "  FutureWarning)\n",
            "/usr/local/lib/python3.6/dist-packages/sklearn/linear_model/logistic.py:432: FutureWarning: Default solver will be changed to 'lbfgs' in 0.22. Specify a solver to silence this warning.\n",
            "  FutureWarning)\n",
            "/usr/local/lib/python3.6/dist-packages/sklearn/linear_model/logistic.py:432: FutureWarning: Default solver will be changed to 'lbfgs' in 0.22. Specify a solver to silence this warning.\n",
            "  FutureWarning)\n",
            "/usr/local/lib/python3.6/dist-packages/sklearn/linear_model/logistic.py:432: FutureWarning: Default solver will be changed to 'lbfgs' in 0.22. Specify a solver to silence this warning.\n",
            "  FutureWarning)\n",
            "/usr/local/lib/python3.6/dist-packages/sklearn/linear_model/logistic.py:432: FutureWarning: Default solver will be changed to 'lbfgs' in 0.22. Specify a solver to silence this warning.\n",
            "  FutureWarning)\n"
          ],
          "name": "stderr"
        },
        {
          "output_type": "stream",
          "text": [
            "[False False False False False  True  True False  True  True  True  True]\n",
            "[2 3 5 7 4 1 1 6 1 1 1 1]\n"
          ],
          "name": "stdout"
        },
        {
          "output_type": "stream",
          "text": [
            "/usr/local/lib/python3.6/dist-packages/sklearn/linear_model/logistic.py:432: FutureWarning: Default solver will be changed to 'lbfgs' in 0.22. Specify a solver to silence this warning.\n",
            "  FutureWarning)\n",
            "/usr/local/lib/python3.6/dist-packages/sklearn/linear_model/logistic.py:432: FutureWarning: Default solver will be changed to 'lbfgs' in 0.22. Specify a solver to silence this warning.\n",
            "  FutureWarning)\n"
          ],
          "name": "stderr"
        }
      ]
    },
    {
      "cell_type": "code",
      "metadata": {
        "id": "iB5nIw24g9Zt",
        "colab_type": "code",
        "colab": {}
      },
      "source": [
        "new_columns = ['Age','Experience', 'Income', 'Family','CCAvg','Education','Mortgage','Securities Account','CD Account', 'Online','CreditCard']"
      ],
      "execution_count": 0,
      "outputs": []
    },
    {
      "cell_type": "code",
      "metadata": {
        "id": "vn55N_GHu1It",
        "colab_type": "code",
        "outputId": "eb262ee0-37b5-4504-fb92-cac7e3989de7",
        "colab": {
          "base_uri": "https://localhost:8080/",
          "height": 510
        }
      },
      "source": [
        "ad_X=adasyn_sample_data_X[new_columns]\n",
        "ad_y=adasyn_sample_data_y['Personal Loan']\n",
        "logit_model=sm.Logit(ad_y,ad_X)\n",
        "result=logit_model.fit()\n",
        "print(result.summary2())"
      ],
      "execution_count": 0,
      "outputs": [
        {
          "output_type": "stream",
          "text": [
            "Optimization terminated successfully.\n",
            "         Current function value: 0.179176\n",
            "         Iterations 9\n",
            "                          Results: Logit\n",
            "===================================================================\n",
            "Model:               Logit             Pseudo R-squared:  0.742    \n",
            "Dependent Variable:  Personal Loan     AIC:               2063.1695\n",
            "Date:                2019-07-15 06:58  BIC:               2136.2922\n",
            "No. Observations:    5696              Log-Likelihood:    -1020.6  \n",
            "Df Model:            10                LL-Null:           -3948.2  \n",
            "Df Residuals:        5685              LLR p-value:       0.0000   \n",
            "Converged:           1.0000            Scale:             1.0000   \n",
            "No. Iterations:      9.0000                                        \n",
            "-------------------------------------------------------------------\n",
            "                    Coef.  Std.Err.    z     P>|z|   [0.025  0.975]\n",
            "-------------------------------------------------------------------\n",
            "Age                -0.5272   0.0196 -26.8989 0.0000 -0.5657 -0.4888\n",
            "Experience          0.5193   0.0215  24.2049 0.0000  0.4773  0.5614\n",
            "Income              0.0791   0.0027  29.2641 0.0000  0.0738  0.0844\n",
            "Family              0.5727   0.0557  10.2891 0.0000  0.4636  0.6818\n",
            "CCAvg               0.8394   0.0522  16.0926 0.0000  0.7371  0.9416\n",
            "Education           1.4226   0.0853  16.6767 0.0000  1.2554  1.5898\n",
            "Mortgage           -0.0027   0.0011  -2.4819 0.0131 -0.0048 -0.0006\n",
            "Securities Account -1.9574   0.2774  -7.0564 0.0000 -2.5011 -1.4137\n",
            "CD Account          4.6635   0.3354  13.9047 0.0000  4.0061  5.3208\n",
            "Online             -1.2098   0.1364  -8.8672 0.0000 -1.4772 -0.9424\n",
            "CreditCard         -1.6442   0.1676  -9.8115 0.0000 -1.9727 -1.3158\n",
            "===================================================================\n",
            "\n"
          ],
          "name": "stdout"
        }
      ]
    },
    {
      "cell_type": "code",
      "metadata": {
        "id": "sxBMoWWB5Mh_",
        "colab_type": "code",
        "outputId": "8a3d7ef1-8845-4187-d365-f23d9ae8979a",
        "colab": {
          "base_uri": "https://localhost:8080/",
          "height": 510
        }
      },
      "source": [
        "ad_X_o=adasyn_sample_data_X_o[new_columns]\n",
        "ad_y_o=adasyn_sample_data_y_o['Personal Loan']\n",
        "logit_model=sm.Logit(ad_y_o,ad_X_o)\n",
        "result=logit_model.fit()\n",
        "print(result.summary2())"
      ],
      "execution_count": 0,
      "outputs": [
        {
          "output_type": "stream",
          "text": [
            "Optimization terminated successfully.\n",
            "         Current function value: 0.237715\n",
            "         Iterations 8\n",
            "                          Results: Logit\n",
            "===================================================================\n",
            "Model:               Logit             Pseudo R-squared:  0.657    \n",
            "Dependent Variable:  Personal Loan     AIC:               3005.7929\n",
            "Date:                2019-07-15 06:58  BIC:               3079.9823\n",
            "No. Observations:    6276              Log-Likelihood:    -1491.9  \n",
            "Df Model:            10                LL-Null:           -4349.7  \n",
            "Df Residuals:        6265              LLR p-value:       0.0000   \n",
            "Converged:           1.0000            Scale:             1.0000   \n",
            "No. Iterations:      8.0000                                        \n",
            "-------------------------------------------------------------------\n",
            "                    Coef.  Std.Err.    z     P>|z|   [0.025  0.975]\n",
            "-------------------------------------------------------------------\n",
            "Age                -0.4444   0.0141 -31.4421 0.0000 -0.4721 -0.4167\n",
            "Experience          0.4438   0.0158  28.1540 0.0000  0.4129  0.4747\n",
            "Income              0.0548   0.0018  31.2393 0.0000  0.0514  0.0583\n",
            "Family              0.6153   0.0458  13.4465 0.0000  0.5256  0.7050\n",
            "CCAvg               0.2777   0.0315   8.8213 0.0000  0.2160  0.3394\n",
            "Education           1.6889   0.0740  22.8193 0.0000  1.5438  1.8340\n",
            "Mortgage            0.0001   0.0004   0.2733 0.7847 -0.0006  0.0009\n",
            "Securities Account -1.1674   0.2070  -5.6406 0.0000 -1.5730 -0.7618\n",
            "CD Account          4.2184   0.2410  17.5021 0.0000  3.7460  4.6908\n",
            "Online             -0.7328   0.1107  -6.6204 0.0000 -0.9498 -0.5159\n",
            "CreditCard         -1.4031   0.1362 -10.3049 0.0000 -1.6699 -1.1362\n",
            "===================================================================\n",
            "\n"
          ],
          "name": "stdout"
        }
      ]
    },
    {
      "cell_type": "markdown",
      "metadata": {
        "id": "yanA4aSxbGfr",
        "colab_type": "text"
      },
      "source": [
        "# Train data and Parameter tunning"
      ]
    },
    {
      "cell_type": "code",
      "metadata": {
        "id": "Gsmo9BrOvFZ9",
        "colab_type": "code",
        "outputId": "4bd779b5-769f-41fb-fc74-4e038e148bd5",
        "colab": {
          "base_uri": "https://localhost:8080/",
          "height": 210
        }
      },
      "source": [
        "col_without_mort = ['Age','Experience', 'Income', 'Family','CCAvg','Education','Securities Account','CD Account', 'Online','CreditCard']\n",
        "col_without_mort_inc = ['Age','Experience', 'Family','CCAvg','Education','Securities Account','CD Account', 'Online','CreditCard']\n",
        "col_without_mort_inc_fam = ['Age','Experience','CCAvg','Education','Securities Account','CD Account', 'Online','CreditCard']\n",
        "col_without_mort_inc_fam_on = ['Age','Experience','CCAvg','Education','Securities Account','CD Account', 'CreditCard']\n",
        "logreg_ad = LogisticRegression()\n",
        "logreg_ad.fit(ad_X,ad_y)\n",
        "logreg_ad_o = LogisticRegression()\n",
        "logreg_ad_o.fit(ad_X_o[col_without_mort],ad_y_o)"
      ],
      "execution_count": 0,
      "outputs": [
        {
          "output_type": "stream",
          "text": [
            "/usr/local/lib/python3.6/dist-packages/sklearn/linear_model/logistic.py:432: FutureWarning: Default solver will be changed to 'lbfgs' in 0.22. Specify a solver to silence this warning.\n",
            "  FutureWarning)\n",
            "/usr/local/lib/python3.6/dist-packages/sklearn/linear_model/logistic.py:432: FutureWarning: Default solver will be changed to 'lbfgs' in 0.22. Specify a solver to silence this warning.\n",
            "  FutureWarning)\n"
          ],
          "name": "stderr"
        },
        {
          "output_type": "execute_result",
          "data": {
            "text/plain": [
              "LogisticRegression(C=1.0, class_weight=None, dual=False, fit_intercept=True,\n",
              "                   intercept_scaling=1, l1_ratio=None, max_iter=100,\n",
              "                   multi_class='warn', n_jobs=None, penalty='l2',\n",
              "                   random_state=None, solver='warn', tol=0.0001, verbose=0,\n",
              "                   warm_start=False)"
            ]
          },
          "metadata": {
            "tags": []
          },
          "execution_count": 47
        }
      ]
    },
    {
      "cell_type": "code",
      "metadata": {
        "id": "h8dllECcx7pl",
        "colab_type": "code",
        "outputId": "b87ffd45-f7dc-45f6-811a-7ee2ccd53a88",
        "colab": {
          "base_uri": "https://localhost:8080/",
          "height": 51
        }
      },
      "source": [
        "y_pred_ad = logreg_ad.predict(X_test[new_columns])\n",
        "print('Accuracy of logistic regression classifier on test set: {:.2f}'.format(logreg_ad.score(X_test[new_columns], y_test)))\n",
        "y_pred_ad_o = logreg_ad_o.predict(X_o_test[col_without_mort])\n",
        "print('Accuracy of logistic regression classifier on test set with outliers: {:.2f}'.format(logreg_ad_o.score(X_o_test[col_without_mort], y_o_test)))"
      ],
      "execution_count": 0,
      "outputs": [
        {
          "output_type": "stream",
          "text": [
            "Accuracy of logistic regression classifier on test set: 0.91\n",
            "Accuracy of logistic regression classifier on test set with outliers: 0.90\n"
          ],
          "name": "stdout"
        }
      ]
    },
    {
      "cell_type": "code",
      "metadata": {
        "id": "3aU30m_dycZ-",
        "colab_type": "code",
        "outputId": "298c88e7-5351-4747-9649-e927e0bb4b48",
        "colab": {
          "base_uri": "https://localhost:8080/",
          "height": 510
        }
      },
      "source": [
        "st_X=smote_sample_data_X[new_columns]\n",
        "st_y=smote_sample_data_y['Personal Loan']\n",
        "logit_model=sm.Logit(st_y,st_X)\n",
        "result=logit_model.fit()\n",
        "print(result.summary2())"
      ],
      "execution_count": 0,
      "outputs": [
        {
          "output_type": "stream",
          "text": [
            "Optimization terminated successfully.\n",
            "         Current function value: 0.176553\n",
            "         Iterations 9\n",
            "                          Results: Logit\n",
            "===================================================================\n",
            "Model:               Logit             Pseudo R-squared:  0.745    \n",
            "Dependent Variable:  Personal Loan     AIC:               2037.5281\n",
            "Date:                2019-07-15 06:58  BIC:               2110.6739\n",
            "No. Observations:    5708              Log-Likelihood:    -1007.8  \n",
            "Df Model:            10                LL-Null:           -3956.5  \n",
            "Df Residuals:        5697              LLR p-value:       0.0000   \n",
            "Converged:           1.0000            Scale:             1.0000   \n",
            "No. Iterations:      9.0000                                        \n",
            "-------------------------------------------------------------------\n",
            "                    Coef.  Std.Err.    z     P>|z|   [0.025  0.975]\n",
            "-------------------------------------------------------------------\n",
            "Age                -0.5249   0.0194 -27.0002 0.0000 -0.5630 -0.4868\n",
            "Experience          0.5182   0.0213  24.3059 0.0000  0.4764  0.5600\n",
            "Income              0.0789   0.0027  29.6383 0.0000  0.0737  0.0841\n",
            "Family              0.5532   0.0553   9.9995 0.0000  0.4448  0.6616\n",
            "CCAvg               0.7866   0.0519  15.1638 0.0000  0.6849  0.8883\n",
            "Education           1.4133   0.0857  16.4957 0.0000  1.2454  1.5812\n",
            "Mortgage           -0.0030   0.0011  -2.7374 0.0062 -0.0051 -0.0008\n",
            "Securities Account -1.9310   0.2938  -6.5733 0.0000 -2.5068 -1.3553\n",
            "CD Account          4.5169   0.3498  12.9127 0.0000  3.8313  5.2025\n",
            "Online             -1.0481   0.1361  -7.7031 0.0000 -1.3147 -0.7814\n",
            "CreditCard         -1.5813   0.1663  -9.5104 0.0000 -1.9072 -1.2554\n",
            "===================================================================\n",
            "\n"
          ],
          "name": "stdout"
        }
      ]
    },
    {
      "cell_type": "code",
      "metadata": {
        "id": "gioA2peW6Ckc",
        "colab_type": "code",
        "outputId": "6f692016-6e44-43c3-fd95-e301a2e15175",
        "colab": {
          "base_uri": "https://localhost:8080/",
          "height": 510
        }
      },
      "source": [
        "st_X_o=smote_sample_data_X_o[new_columns]\n",
        "st_y_o=smote_sample_data_y_o['Personal Loan']\n",
        "logit_model=sm.Logit(st_y_o,st_X_o)\n",
        "result=logit_model.fit()\n",
        "print(result.summary2())"
      ],
      "execution_count": 0,
      "outputs": [
        {
          "output_type": "stream",
          "text": [
            "Optimization terminated successfully.\n",
            "         Current function value: 0.229179\n",
            "         Iterations 8\n",
            "                          Results: Logit\n",
            "===================================================================\n",
            "Model:               Logit             Pseudo R-squared:  0.669    \n",
            "Dependent Variable:  Personal Loan     AIC:               2934.4038\n",
            "Date:                2019-07-15 06:58  BIC:               3008.7290\n",
            "No. Observations:    6354              Log-Likelihood:    -1456.2  \n",
            "Df Model:            10                LL-Null:           -4404.3  \n",
            "Df Residuals:        6343              LLR p-value:       0.0000   \n",
            "Converged:           1.0000            Scale:             1.0000   \n",
            "No. Iterations:      8.0000                                        \n",
            "-------------------------------------------------------------------\n",
            "                    Coef.  Std.Err.    z     P>|z|   [0.025  0.975]\n",
            "-------------------------------------------------------------------\n",
            "Age                -0.4554   0.0146 -31.0948 0.0000 -0.4841 -0.4267\n",
            "Experience          0.4577   0.0163  28.0791 0.0000  0.4257  0.4896\n",
            "Income              0.0586   0.0018  31.8622 0.0000  0.0550  0.0622\n",
            "Family              0.6214   0.0462  13.4372 0.0000  0.5307  0.7120\n",
            "CCAvg               0.1952   0.0315   6.1913 0.0000  0.1334  0.2570\n",
            "Education           1.6848   0.0767  21.9702 0.0000  1.5345  1.8351\n",
            "Mortgage            0.0002   0.0004   0.6434 0.5200 -0.0005  0.0010\n",
            "Securities Account -1.0775   0.2114  -5.0963 0.0000 -1.4918 -0.6631\n",
            "CD Account          4.4177   0.2467  17.9096 0.0000  3.9342  4.9011\n",
            "Online             -0.8109   0.1122  -7.2277 0.0000 -1.0309 -0.5910\n",
            "CreditCard         -1.3011   0.1344  -9.6814 0.0000 -1.5645 -1.0377\n",
            "===================================================================\n",
            "\n"
          ],
          "name": "stdout"
        }
      ]
    },
    {
      "cell_type": "code",
      "metadata": {
        "id": "lF26GjMB0OoA",
        "colab_type": "code",
        "outputId": "782da63a-0e1a-4751-c6e2-57e26f5f3c88",
        "colab": {
          "base_uri": "https://localhost:8080/",
          "height": 210
        }
      },
      "source": [
        "logreg_st = LogisticRegression()\n",
        "logreg_st.fit(st_X,st_y)\n",
        "logreg_st_o = LogisticRegression()\n",
        "logreg_st_o.fit(st_X_o[col_without_mort],st_y_o)"
      ],
      "execution_count": 0,
      "outputs": [
        {
          "output_type": "stream",
          "text": [
            "/usr/local/lib/python3.6/dist-packages/sklearn/linear_model/logistic.py:432: FutureWarning: Default solver will be changed to 'lbfgs' in 0.22. Specify a solver to silence this warning.\n",
            "  FutureWarning)\n",
            "/usr/local/lib/python3.6/dist-packages/sklearn/linear_model/logistic.py:432: FutureWarning: Default solver will be changed to 'lbfgs' in 0.22. Specify a solver to silence this warning.\n",
            "  FutureWarning)\n"
          ],
          "name": "stderr"
        },
        {
          "output_type": "execute_result",
          "data": {
            "text/plain": [
              "LogisticRegression(C=1.0, class_weight=None, dual=False, fit_intercept=True,\n",
              "                   intercept_scaling=1, l1_ratio=None, max_iter=100,\n",
              "                   multi_class='warn', n_jobs=None, penalty='l2',\n",
              "                   random_state=None, solver='warn', tol=0.0001, verbose=0,\n",
              "                   warm_start=False)"
            ]
          },
          "metadata": {
            "tags": []
          },
          "execution_count": 51
        }
      ]
    },
    {
      "cell_type": "code",
      "metadata": {
        "id": "REKNA9Na0a_A",
        "colab_type": "code",
        "outputId": "53a5955e-298b-4d13-afda-0ef1295d1a6a",
        "colab": {
          "base_uri": "https://localhost:8080/",
          "height": 51
        }
      },
      "source": [
        "y_pred_st = logreg_st.predict(X_test[new_columns])\n",
        "print('Accuracy of logistic regression classifier on test set: {:.2f}'.format(logreg_st.score(X_test[new_columns], y_test)))\n",
        "y_pred_st_o = logreg_st_o.predict(X_o_test[col_without_mort])\n",
        "print('Accuracy of logistic regression classifier on test set with outliers: {:.2f}'.format(logreg_st_o.score(X_o_test[col_without_mort], y_o_test)))"
      ],
      "execution_count": 0,
      "outputs": [
        {
          "output_type": "stream",
          "text": [
            "Accuracy of logistic regression classifier on test set: 0.91\n",
            "Accuracy of logistic regression classifier on test set with outliers: 0.90\n"
          ],
          "name": "stdout"
        }
      ]
    },
    {
      "cell_type": "code",
      "metadata": {
        "id": "2UftMoEK0r52",
        "colab_type": "code",
        "outputId": "0a88d6d4-7374-43f3-c413-be5eef549356",
        "colab": {
          "base_uri": "https://localhost:8080/",
          "height": 108
        }
      },
      "source": [
        "logreg_nm = LogisticRegression()\n",
        "logreg_nm.fit(X_train,y_train)\n",
        "y_pred_nm = logreg_nm.predict(X_test)\n",
        "print('Accuracy of logistic regression classifier on test set: {:.2f}'.format(logreg_nm.score(X_test, y_test)))"
      ],
      "execution_count": 0,
      "outputs": [
        {
          "output_type": "stream",
          "text": [
            "/usr/local/lib/python3.6/dist-packages/sklearn/linear_model/logistic.py:432: FutureWarning: Default solver will be changed to 'lbfgs' in 0.22. Specify a solver to silence this warning.\n",
            "  FutureWarning)\n"
          ],
          "name": "stderr"
        },
        {
          "output_type": "stream",
          "text": [
            "Accuracy of logistic regression classifier on test set: 0.94\n"
          ],
          "name": "stdout"
        }
      ]
    },
    {
      "cell_type": "code",
      "metadata": {
        "id": "L8hHQPie0_Yq",
        "colab_type": "code",
        "outputId": "9b003fa8-9986-485e-8ab0-a4df7e7b0bd4",
        "colab": {
          "base_uri": "https://localhost:8080/",
          "height": 108
        }
      },
      "source": [
        "logreg_nm = LogisticRegression()\n",
        "logreg_nm.fit(X_train[col_without_mort],y_train)\n",
        "y_pred_nm = logreg_nm.predict(X_test[col_without_mort])\n",
        "print('Accuracy of logistic regression classifier on test set: {:.2f}'.format(logreg_nm.score(X_test[col_without_mort], y_test)))"
      ],
      "execution_count": 0,
      "outputs": [
        {
          "output_type": "stream",
          "text": [
            "Accuracy of logistic regression classifier on test set: 0.96\n"
          ],
          "name": "stdout"
        },
        {
          "output_type": "stream",
          "text": [
            "/usr/local/lib/python3.6/dist-packages/sklearn/linear_model/logistic.py:432: FutureWarning: Default solver will be changed to 'lbfgs' in 0.22. Specify a solver to silence this warning.\n",
            "  FutureWarning)\n"
          ],
          "name": "stderr"
        }
      ]
    },
    {
      "cell_type": "code",
      "metadata": {
        "id": "Eqz6OBV31Ed2",
        "colab_type": "code",
        "outputId": "d970fca2-836c-4497-dc16-be039be8bd36",
        "colab": {
          "base_uri": "https://localhost:8080/",
          "height": 108
        }
      },
      "source": [
        "logreg_nm = LogisticRegression()\n",
        "logreg_nm.fit(X_train[col_without_mort_inc],y_train)\n",
        "y_pred_nm = logreg_nm.predict(X_test[col_without_mort_inc])\n",
        "print('Accuracy of logistic regression classifier on test set: {:.2f}'.format(logreg_nm.score(X_test[col_without_mort_inc], y_test)))"
      ],
      "execution_count": 0,
      "outputs": [
        {
          "output_type": "stream",
          "text": [
            "Accuracy of logistic regression classifier on test set: 0.96\n"
          ],
          "name": "stdout"
        },
        {
          "output_type": "stream",
          "text": [
            "/usr/local/lib/python3.6/dist-packages/sklearn/linear_model/logistic.py:432: FutureWarning: Default solver will be changed to 'lbfgs' in 0.22. Specify a solver to silence this warning.\n",
            "  FutureWarning)\n"
          ],
          "name": "stderr"
        }
      ]
    },
    {
      "cell_type": "code",
      "metadata": {
        "id": "OX1vbFew-r7w",
        "colab_type": "code",
        "outputId": "3b1728ad-4bb1-4fe4-e4ed-3ecdff1b00b3",
        "colab": {
          "base_uri": "https://localhost:8080/",
          "height": 108
        }
      },
      "source": [
        "logreg_nm = LogisticRegression()\n",
        "logreg_nm.fit(X_train[col_without_mort_inc_fam],y_train)\n",
        "y_pred_nm = logreg_nm.predict(X_test[col_without_mort_inc_fam])\n",
        "print('Accuracy of logistic regression classifier on test set: {:.2f}'.format(logreg_nm.score(X_test[col_without_mort_inc_fam], y_test)))"
      ],
      "execution_count": 0,
      "outputs": [
        {
          "output_type": "stream",
          "text": [
            "Accuracy of logistic regression classifier on test set: 0.96\n"
          ],
          "name": "stdout"
        },
        {
          "output_type": "stream",
          "text": [
            "/usr/local/lib/python3.6/dist-packages/sklearn/linear_model/logistic.py:432: FutureWarning: Default solver will be changed to 'lbfgs' in 0.22. Specify a solver to silence this warning.\n",
            "  FutureWarning)\n"
          ],
          "name": "stderr"
        }
      ]
    },
    {
      "cell_type": "code",
      "metadata": {
        "id": "o4iZmSuS--oW",
        "colab_type": "code",
        "outputId": "258c590b-1f6e-41dd-cee4-a1af3f40f3eb",
        "colab": {
          "base_uri": "https://localhost:8080/",
          "height": 108
        }
      },
      "source": [
        "logreg_nm = LogisticRegression()\n",
        "logreg_nm.fit(X_train[col_without_mort_inc_fam_on],y_train)\n",
        "y_pred_nm = logreg_nm.predict(X_test[col_without_mort_inc_fam_on])\n",
        "print('Accuracy of logistic regression classifier on test set: {:.2f}'.format(logreg_nm.score(X_test[col_without_mort_inc_fam_on], y_test)))"
      ],
      "execution_count": 0,
      "outputs": [
        {
          "output_type": "stream",
          "text": [
            "/usr/local/lib/python3.6/dist-packages/sklearn/linear_model/logistic.py:432: FutureWarning: Default solver will be changed to 'lbfgs' in 0.22. Specify a solver to silence this warning.\n",
            "  FutureWarning)\n"
          ],
          "name": "stderr"
        },
        {
          "output_type": "stream",
          "text": [
            "Accuracy of logistic regression classifier on test set: 0.96\n"
          ],
          "name": "stdout"
        }
      ]
    },
    {
      "cell_type": "code",
      "metadata": {
        "id": "xZVV7eFO_Qy_",
        "colab_type": "code",
        "outputId": "34c7f29f-c23b-4429-c826-1a71748d267d",
        "colab": {
          "base_uri": "https://localhost:8080/",
          "height": 51
        }
      },
      "source": [
        "confusion_matrix_1 = confusion_matrix(y_test, y_pred_nm)\n",
        "print(confusion_matrix_1)"
      ],
      "execution_count": 0,
      "outputs": [
        {
          "output_type": "stream",
          "text": [
            "[[1231    7]\n",
            " [  49   21]]\n"
          ],
          "name": "stdout"
        }
      ]
    },
    {
      "cell_type": "markdown",
      "metadata": {
        "id": "hOlWVM7FcBCe",
        "colab_type": "text"
      },
      "source": [
        "<img src = \"data:image/png;base64,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\">"
      ]
    },
    {
      "cell_type": "code",
      "metadata": {
        "id": "_ELWy3BBA_De",
        "colab_type": "code",
        "outputId": "2b68f30c-6005-431a-dc4c-a8a39bd7df08",
        "colab": {
          "base_uri": "https://localhost:8080/",
          "height": 51
        }
      },
      "source": [
        "confusion_matrix_2 = confusion_matrix(y_o_test, y_pred_ad_o)\n",
        "print(confusion_matrix_2)"
      ],
      "execution_count": 0,
      "outputs": [
        {
          "output_type": "stream",
          "text": [
            "[[1205  138]\n",
            " [  14  143]]\n"
          ],
          "name": "stdout"
        }
      ]
    },
    {
      "cell_type": "markdown",
      "metadata": {
        "id": "KcywjSj3T0Cd",
        "colab_type": "text"
      },
      "source": [
        "# KNN \n",
        "\n"
      ]
    },
    {
      "cell_type": "code",
      "metadata": {
        "id": "6dXaUhe1c1wl",
        "colab_type": "code",
        "colab": {}
      },
      "source": [
        "knn = KNeighborsClassifier()\n",
        "param_grid = {'n_neighbors': np.arange(1, 25)}"
      ],
      "execution_count": 0,
      "outputs": []
    },
    {
      "cell_type": "markdown",
      "metadata": {
        "id": "K-TJAnbKXOeO",
        "colab_type": "text"
      },
      "source": [
        "use gridsearch to test all values for n_neighbors"
      ]
    },
    {
      "cell_type": "code",
      "metadata": {
        "id": "5aB8rvYX3H5x",
        "colab_type": "code",
        "colab": {}
      },
      "source": [
        "knn_gscv = GridSearchCV(knn, param_grid, cv=5)"
      ],
      "execution_count": 0,
      "outputs": []
    },
    {
      "cell_type": "code",
      "metadata": {
        "id": "t-NgBwFgXYV1",
        "colab_type": "code",
        "outputId": "1755cd7d-0959-4d75-996a-d7f9457902e7",
        "colab": {
          "base_uri": "https://localhost:8080/",
          "height": 204
        }
      },
      "source": [
        "knn_gscv.fit(X, Y)"
      ],
      "execution_count": 0,
      "outputs": [
        {
          "output_type": "execute_result",
          "data": {
            "text/plain": [
              "GridSearchCV(cv=5, error_score='raise-deprecating',\n",
              "             estimator=KNeighborsClassifier(algorithm='auto', leaf_size=30,\n",
              "                                            metric='minkowski',\n",
              "                                            metric_params=None, n_jobs=None,\n",
              "                                            n_neighbors=5, p=2,\n",
              "                                            weights='uniform'),\n",
              "             iid='warn', n_jobs=None,\n",
              "             param_grid={'n_neighbors': array([ 1,  2,  3,  4,  5,  6,  7,  8,  9, 10, 11, 12, 13, 14, 15, 16, 17,\n",
              "       18, 19, 20, 21, 22, 23, 24])},\n",
              "             pre_dispatch='2*n_jobs', refit=True, return_train_score=False,\n",
              "             scoring=None, verbose=0)"
            ]
          },
          "metadata": {
            "tags": []
          },
          "execution_count": 62
        }
      ]
    },
    {
      "cell_type": "code",
      "metadata": {
        "id": "3Q1JY-ABZRnS",
        "colab_type": "code",
        "outputId": "15223f9d-61ff-4d81-fd91-b137f0dac7ff",
        "colab": {
          "base_uri": "https://localhost:8080/",
          "height": 34
        }
      },
      "source": [
        "#check top performing n_neighbors value\n",
        "knn_gscv.best_params_"
      ],
      "execution_count": 0,
      "outputs": [
        {
          "output_type": "execute_result",
          "data": {
            "text/plain": [
              "{'n_neighbors': 7}"
            ]
          },
          "metadata": {
            "tags": []
          },
          "execution_count": 63
        }
      ]
    },
    {
      "cell_type": "code",
      "metadata": {
        "id": "elr7V2mZaVN9",
        "colab_type": "code",
        "outputId": "ca759f88-3c2f-4a12-80ba-435221c88522",
        "colab": {
          "base_uri": "https://localhost:8080/",
          "height": 34
        }
      },
      "source": [
        "#check mean score for the top performing value of n_neighbors\n",
        "knn_gscv.best_score_"
      ],
      "execution_count": 0,
      "outputs": [
        {
          "output_type": "execute_result",
          "data": {
            "text/plain": [
              "0.9396512161541992"
            ]
          },
          "metadata": {
            "tags": []
          },
          "execution_count": 64
        }
      ]
    },
    {
      "cell_type": "code",
      "metadata": {
        "id": "d-1YG3K5a931",
        "colab_type": "code",
        "outputId": "bad25d87-8d57-4468-8594-4e8cb64201f9",
        "colab": {
          "base_uri": "https://localhost:8080/",
          "height": 51
        }
      },
      "source": [
        "knn_gscv_o = GridSearchCV(knn, param_grid, cv=5)\n",
        "knn_gscv_o.fit(X_o, Y_o)\n",
        "print(knn_gscv_o.best_params_)\n",
        "print(knn_gscv_o.best_score_)"
      ],
      "execution_count": 0,
      "outputs": [
        {
          "output_type": "stream",
          "text": [
            "{'n_neighbors': 4}\n",
            "0.904\n"
          ],
          "name": "stdout"
        }
      ]
    },
    {
      "cell_type": "code",
      "metadata": {
        "id": "_niQxwx4bjkM",
        "colab_type": "code",
        "outputId": "b3a6268f-5639-431f-b57b-bbe75ef9ab6e",
        "colab": {
          "base_uri": "https://localhost:8080/",
          "height": 51
        }
      },
      "source": [
        "knn_gscv_z = GridSearchCV(knn, param_grid, cv=5)\n",
        "knn_gscv_z.fit(X[new_columns], Y)\n",
        "print(knn_gscv_z.best_params_)\n",
        "print(knn_gscv_z.best_score_)"
      ],
      "execution_count": 0,
      "outputs": [
        {
          "output_type": "stream",
          "text": [
            "{'n_neighbors': 9}\n",
            "0.9469940339605324\n"
          ],
          "name": "stdout"
        }
      ]
    },
    {
      "cell_type": "code",
      "metadata": {
        "id": "piomrhuMbqc9",
        "colab_type": "code",
        "outputId": "453c5103-0fbd-4650-e7fa-42954aea6ebe",
        "colab": {
          "base_uri": "https://localhost:8080/",
          "height": 51
        }
      },
      "source": [
        "knn_gscv_m = GridSearchCV(knn, param_grid, cv=5)\n",
        "knn_gscv_m.fit(X[col_without_mort], Y)\n",
        "print(knn_gscv_m.best_params_)\n",
        "print(knn_gscv_m.best_score_)"
      ],
      "execution_count": 0,
      "outputs": [
        {
          "output_type": "stream",
          "text": [
            "{'n_neighbors': 1}\n",
            "0.9497475906379073\n"
          ],
          "name": "stdout"
        }
      ]
    },
    {
      "cell_type": "code",
      "metadata": {
        "id": "r1UNGnYCcB9o",
        "colab_type": "code",
        "outputId": "d7a98dbd-55c8-4649-deb6-ea993e0ad933",
        "colab": {
          "base_uri": "https://localhost:8080/",
          "height": 51
        }
      },
      "source": [
        "knn_gscv_st = GridSearchCV(knn, param_grid, cv=5)\n",
        "knn_gscv_st.fit(st_X[new_columns],st_y)\n",
        "print(knn_gscv_st.best_params_)\n",
        "print(knn_gscv_st.best_score_)"
      ],
      "execution_count": 0,
      "outputs": [
        {
          "output_type": "stream",
          "text": [
            "{'n_neighbors': 1}\n",
            "0.9463910301331465\n"
          ],
          "name": "stdout"
        }
      ]
    },
    {
      "cell_type": "code",
      "metadata": {
        "id": "PCrFNCKcca8L",
        "colab_type": "code",
        "outputId": "b1836efd-a21f-405f-95d4-5fe68e85adb6",
        "colab": {
          "base_uri": "https://localhost:8080/",
          "height": 51
        }
      },
      "source": [
        "knn_gscv_ad = GridSearchCV(knn, param_grid, cv=5)\n",
        "knn_gscv_ad.fit(ad_X[new_columns],ad_y)\n",
        "print(knn_gscv_ad.best_params_)\n",
        "print(knn_gscv_ad.best_score_)"
      ],
      "execution_count": 0,
      "outputs": [
        {
          "output_type": "stream",
          "text": [
            "{'n_neighbors': 1}\n",
            "0.936622191011236\n"
          ],
          "name": "stdout"
        }
      ]
    },
    {
      "cell_type": "code",
      "metadata": {
        "id": "5BMoonvLdGIJ",
        "colab_type": "code",
        "colab": {}
      },
      "source": [
        "knn_a = KNeighborsClassifier(n_neighbors = 9)"
      ],
      "execution_count": 0,
      "outputs": []
    },
    {
      "cell_type": "code",
      "metadata": {
        "id": "5WrDEb4oeGIy",
        "colab_type": "code",
        "outputId": "4c3455d0-4c21-4bfb-8ce4-315012831840",
        "colab": {
          "base_uri": "https://localhost:8080/",
          "height": 68
        }
      },
      "source": [
        "knn.fit(X_train[new_columns],y_train)"
      ],
      "execution_count": 0,
      "outputs": [
        {
          "output_type": "execute_result",
          "data": {
            "text/plain": [
              "KNeighborsClassifier(algorithm='auto', leaf_size=30, metric='minkowski',\n",
              "                     metric_params=None, n_jobs=None, n_neighbors=5, p=2,\n",
              "                     weights='uniform')"
            ]
          },
          "metadata": {
            "tags": []
          },
          "execution_count": 72
        }
      ]
    },
    {
      "cell_type": "code",
      "metadata": {
        "id": "nFMlJJ3MeMxY",
        "colab_type": "code",
        "colab": {}
      },
      "source": [
        "pred = knn.predict(X_test[new_columns])"
      ],
      "execution_count": 0,
      "outputs": []
    },
    {
      "cell_type": "code",
      "metadata": {
        "id": "iGFd_NNOeb1y",
        "colab_type": "code",
        "outputId": "9c982f2c-1235-47e8-d949-28a3ae08cba7",
        "colab": {
          "base_uri": "https://localhost:8080/",
          "height": 51
        }
      },
      "source": [
        "confusion_matrix_2 = confusion_matrix(y_test, pred)\n",
        "print(confusion_matrix_2)"
      ],
      "execution_count": 0,
      "outputs": [
        {
          "output_type": "stream",
          "text": [
            "[[1214   24]\n",
            " [  50   20]]\n"
          ],
          "name": "stdout"
        }
      ]
    },
    {
      "cell_type": "markdown",
      "metadata": {
        "id": "3CVzDZ2NezKi",
        "colab_type": "text"
      },
      "source": [
        "<img src = \"data:image/png;base64,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\">"
      ]
    },
    {
      "cell_type": "markdown",
      "metadata": {
        "id": "2jbCZh4agtKr",
        "colab_type": "text"
      },
      "source": [
        "# Naïve Bayes"
      ]
    },
    {
      "cell_type": "code",
      "metadata": {
        "id": "HpZFdk7Xgyjb",
        "colab_type": "code",
        "outputId": "30e5181d-39a8-4492-cfc2-5ebf6a41366f",
        "colab": {
          "base_uri": "https://localhost:8080/",
          "height": 34
        }
      },
      "source": [
        "model_sim = GaussianNB()\n",
        "model_sim.fit(X_train,y_train)\n",
        "y_pred_sim = model_sim.predict(X_test)\n",
        "print(\"Accuracy:\",metrics.accuracy_score(y_test, y_pred_sim))"
      ],
      "execution_count": 0,
      "outputs": [
        {
          "output_type": "stream",
          "text": [
            "Accuracy: 0.9258409785932722\n"
          ],
          "name": "stdout"
        }
      ]
    },
    {
      "cell_type": "code",
      "metadata": {
        "id": "6O7_aI3mYJOI",
        "colab_type": "code",
        "outputId": "e55b9cc2-3d78-4cb5-db01-7982a4784654",
        "colab": {
          "base_uri": "https://localhost:8080/",
          "height": 34
        }
      },
      "source": [
        "model_sim_o = GaussianNB()\n",
        "model_sim_o.fit(X_o_train,y_o_train)\n",
        "y_pred_o = model_sim_o.predict(X_o_test)\n",
        "print(\"Accuracy:\",metrics.accuracy_score(y_o_test, y_pred_o))"
      ],
      "execution_count": 0,
      "outputs": [
        {
          "output_type": "stream",
          "text": [
            "Accuracy: 0.8966666666666666\n"
          ],
          "name": "stdout"
        }
      ]
    },
    {
      "cell_type": "code",
      "metadata": {
        "id": "9xkkILt6cmX6",
        "colab_type": "code",
        "outputId": "469d4640-7cb1-434e-9af8-76df99283176",
        "colab": {
          "base_uri": "https://localhost:8080/",
          "height": 34
        }
      },
      "source": [
        "model_pin = GaussianNB()\n",
        "model_pin.fit(X_train[new_columns],y_train)\n",
        "y_pred_pin = model_pin.predict(X_test[new_columns])\n",
        "print(\"Accuracy:\",metrics.accuracy_score(y_test, y_pred_pin))"
      ],
      "execution_count": 0,
      "outputs": [
        {
          "output_type": "stream",
          "text": [
            "Accuracy: 0.9235474006116208\n"
          ],
          "name": "stdout"
        }
      ]
    },
    {
      "cell_type": "code",
      "metadata": {
        "id": "16bIhmSFdMCV",
        "colab_type": "code",
        "outputId": "33ba808d-652a-4018-d2ec-bec814d57452",
        "colab": {
          "base_uri": "https://localhost:8080/",
          "height": 34
        }
      },
      "source": [
        "model_st = GaussianNB()\n",
        "model_st.fit(st_X[new_columns],st_y)\n",
        "y_pred_st = model_st.predict(X_test[new_columns])\n",
        "print(\"Accuracy:\",metrics.accuracy_score(y_test, y_pred_st))"
      ],
      "execution_count": 0,
      "outputs": [
        {
          "output_type": "stream",
          "text": [
            "Accuracy: 0.9067278287461774\n"
          ],
          "name": "stdout"
        }
      ]
    },
    {
      "cell_type": "code",
      "metadata": {
        "id": "rJaE_udYeCnk",
        "colab_type": "code",
        "outputId": "16212ac1-fc19-42bb-fb17-694a12fd7a88",
        "colab": {
          "base_uri": "https://localhost:8080/",
          "height": 34
        }
      },
      "source": [
        "model_ad = GaussianNB()\n",
        "model_ad.fit(ad_X[new_columns],ad_y)\n",
        "y_pred_ad = model_ad.predict(X_test[new_columns])\n",
        "print(\"Accuracy:\",metrics.accuracy_score(y_test, y_pred_ad))"
      ],
      "execution_count": 0,
      "outputs": [
        {
          "output_type": "stream",
          "text": [
            "Accuracy: 0.9051987767584098\n"
          ],
          "name": "stdout"
        }
      ]
    },
    {
      "cell_type": "code",
      "metadata": {
        "id": "0QcX7EqXeW1E",
        "colab_type": "code",
        "outputId": "3b368869-3b7d-4b0d-a955-aed9279de0db",
        "colab": {
          "base_uri": "https://localhost:8080/",
          "height": 51
        }
      },
      "source": [
        "confusion_matrix_nb = confusion_matrix(y_test, y_pred_sim)\n",
        "print(confusion_matrix_nb)"
      ],
      "execution_count": 0,
      "outputs": [
        {
          "output_type": "stream",
          "text": [
            "[[1170   68]\n",
            " [  29   41]]\n"
          ],
          "name": "stdout"
        }
      ]
    },
    {
      "cell_type": "markdown",
      "metadata": {
        "id": "f6vx89Mwf9ii",
        "colab_type": "text"
      },
      "source": [
        "<img src = \"data:image/png;base64,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\">"
      ]
    },
    {
      "cell_type": "code",
      "metadata": {
        "id": "rR8ebG09fPct",
        "colab_type": "code",
        "outputId": "e6ba9f1a-06dd-4c5e-e8fe-62b29b2e6dd8",
        "colab": {
          "base_uri": "https://localhost:8080/",
          "height": 51
        }
      },
      "source": [
        "confusion_matrix_nb_2 = confusion_matrix(y_test, y_pred_pin)\n",
        "print(confusion_matrix_nb_2)"
      ],
      "execution_count": 0,
      "outputs": [
        {
          "output_type": "stream",
          "text": [
            "[[1167   71]\n",
            " [  29   41]]\n"
          ],
          "name": "stdout"
        }
      ]
    },
    {
      "cell_type": "code",
      "metadata": {
        "id": "a1yYVc7ffi_L",
        "colab_type": "code",
        "colab": {}
      },
      "source": [
        ""
      ],
      "execution_count": 0,
      "outputs": []
    }
  ]
}